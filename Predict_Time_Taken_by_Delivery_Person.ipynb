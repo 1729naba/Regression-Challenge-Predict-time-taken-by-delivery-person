{
 "cells": [
  {
   "cell_type": "markdown",
   "id": "94cd5b3a",
   "metadata": {},
   "source": [
    "# Predict time taken by delivery person"
   ]
  },
  {
   "cell_type": "markdown",
   "id": "822c8287",
   "metadata": {},
   "source": [
    "1. Problem Statement and Data Description<br>\n",
    "2. Read Data as dataframe<br>\n",
    "3. EDA<br>\n",
    "\t3.a) Basic EDA<br>\n",
    "\t3.b) Analysis of numerical and categorical attributes<br>\n",
    "4. Handling Missing Value<br>\n",
    "5. Relationship with Target variable<br>\n",
    "6. Feature Engineering<br>\n",
    "7. Encoding the Categorical variables<br>\n",
    "8. Scaling<br>\n",
    "9. Target Variable check<br>\n",
    "10. Model Building and tuning<br>\n",
    "11. Final Submission<br>\n",
    "12. Future Work\n"
   ]
  },
  {
   "cell_type": "markdown",
   "id": "37eb9229",
   "metadata": {},
   "source": [
    "Challenge link: https://assessment.hackerearth.com/challenges/new/hiring/amazon-business-research-analyst-hiring-challenge/?recommendations=1#job"
   ]
  },
  {
   "cell_type": "markdown",
   "id": "b07fad42",
   "metadata": {},
   "source": [
    "## 1. Problem Statement and Data Description<br>\n",
    "\n",
    "__Problem Statement:__ You are working as a data scientist at a food delivery company. The company wants to improve its system that calculate ETA for delivery persons. Rather than relying on some fixed method/formula, The management has decided to develop intelligent software that can predict the time of arrival for the delivery persons.\n",
    "\n",
    "__Task:__ Develop a machine learning model that can calculate the time taken be the delivery person to deliver the order, given relevant information."
   ]
  },
  {
   "cell_type": "markdown",
   "id": "39d51b11",
   "metadata": {},
   "source": [
    "__Data Description:__ <br>\n",
    "\n",
    "__ID:__ Unique identifier of an entry<br>\n",
    "__Delivery_person_ID:__ Unique identifier of a delivery person<br>\n",
    "__Delivery_person_Age:__ Represents the age of a person<br>\n",
    "__Delivery_person_Ratings:__ Represents average ratings given to the delivery person<br>\n",
    "__Restaurant_latitude:__ Represents latitude of the Restaurant<br>\n",
    "__Restaurant_longitude:__ Represents longitude of the Restaurant<br>\n",
    "__Delivery_location_latitude:__ Represents latitude of the Delivery location<br>\n",
    "__Delivery_location_longitude:__ Represents longitude of the Delivery location<br>\n",
    "__Order_Date:__ Represents the date when the order was placed<br>\n",
    "__Time_Orderd:__ Represents the time when the order was placed<br>\n",
    "__Time_Order_picked:__ Represents the time when the order was picked from the restaurant<br>\n",
    "__Weather conditions:__ Represents weather condition(Windy, Sunny, Cloudy etc)<br>\n",
    "__Road_traffic_density:__ Represents the road traffic density(Jam, High, Low etc)<br>\n",
    "__Vehicle_condition:__ Represents condition of the vehicle(smooth, good or average)<br>\n",
    "__Type_of_order:__ Represents order type(snack, drinks etc)<br>\n",
    "__Type_of_vehicle:__ Represents vehicle type(motorbike, bicycle etc)<br>\n",
    "__multiple_deliveries:__ Represents the number of orders to be delivered in one attempt<br>\n",
    "__Festival:__ Represents whether day is festive or not<br>\n",
    "__City:__ Represents the city<br>\n",
    "__Time_taken (min):__ Represents the time taken by the delivery person to deliver the order<br>"
   ]
  },
  {
   "cell_type": "code",
   "execution_count": 1,
   "id": "b990d841",
   "metadata": {},
   "outputs": [],
   "source": [
    "#import module\n",
    "import re\n",
    "import numpy as np\n",
    "import pandas as pd\n",
    "import pandas_profiling as pp\n",
    "import glob\n",
    "import seaborn as sns\n",
    "import matplotlib.pyplot as plt\n",
    "from sklearn.preprocessing import StandardScaler\n",
    "from sklearn.preprocessing import LabelEncoder\n",
    "import scipy.stats as st\n",
    "import geopy.distance\n",
    "from sklearn.impute import KNNImputer\n",
    "from sklearn.feature_selection import chi2\n",
    "from feature_engine.selection import DropDuplicateFeatures, DropConstantFeatures, DropCorrelatedFeatures, RecursiveFeatureElimination\n",
    "from sklearn.model_selection import train_test_split\n",
    "from sklearn.metrics import mean_squared_error\n",
    "from sklearn.model_selection import GridSearchCV\n",
    "from sklearn.linear_model import LinearRegression\n",
    "import warnings\n",
    "warnings.filterwarnings('ignore')"
   ]
  },
  {
   "cell_type": "markdown",
   "id": "d75f1ee3",
   "metadata": {},
   "source": [
    "# 2. Read Data as dataframe"
   ]
  },
  {
   "cell_type": "code",
   "execution_count": 2,
   "id": "cba87f4e",
   "metadata": {},
   "outputs": [],
   "source": [
    "#Read the train and test data frame\n",
    "train_df = pd.read_csv('traindata.csv')\n",
    "test_df = pd.read_csv('testdata.csv')"
   ]
  },
  {
   "cell_type": "markdown",
   "id": "2317395d",
   "metadata": {},
   "source": [
    "# 3. EDA"
   ]
  },
  {
   "cell_type": "markdown",
   "id": "07af045c",
   "metadata": {},
   "source": [
    "## 3.a) Basic EDA"
   ]
  },
  {
   "cell_type": "code",
   "execution_count": 3,
   "id": "0146da95",
   "metadata": {},
   "outputs": [
    {
     "name": "stdout",
     "output_type": "stream",
     "text": [
      "Train Data:  (45593, 21)\n",
      "Test Data:  (11399, 20)\n"
     ]
    }
   ],
   "source": [
    "#row vs column\n",
    "print('Train Data: ',train_df.shape)\n",
    "print('Test Data: ',test_df.shape)"
   ]
  },
  {
   "cell_type": "code",
   "execution_count": 4,
   "id": "64ba5428",
   "metadata": {},
   "outputs": [
    {
     "data": {
      "text/html": [
       "<div>\n",
       "<style scoped>\n",
       "    .dataframe tbody tr th:only-of-type {\n",
       "        vertical-align: middle;\n",
       "    }\n",
       "\n",
       "    .dataframe tbody tr th {\n",
       "        vertical-align: top;\n",
       "    }\n",
       "\n",
       "    .dataframe thead th {\n",
       "        text-align: right;\n",
       "    }\n",
       "</style>\n",
       "<table border=\"1\" class=\"dataframe\">\n",
       "  <thead>\n",
       "    <tr style=\"text-align: right;\">\n",
       "      <th></th>\n",
       "      <th>Unnamed: 0</th>\n",
       "      <th>ID</th>\n",
       "      <th>Delivery_person_ID</th>\n",
       "      <th>Delivery_person_Age</th>\n",
       "      <th>Delivery_person_Ratings</th>\n",
       "      <th>Restaurant_latitude</th>\n",
       "      <th>Restaurant_longitude</th>\n",
       "      <th>Delivery_location_latitude</th>\n",
       "      <th>Delivery_location_longitude</th>\n",
       "      <th>Order_Date</th>\n",
       "      <th>...</th>\n",
       "      <th>Time_Order_picked</th>\n",
       "      <th>Weather conditions</th>\n",
       "      <th>Road_traffic_density</th>\n",
       "      <th>Vehicle_condition</th>\n",
       "      <th>Type_of_order</th>\n",
       "      <th>Type_of_vehicle</th>\n",
       "      <th>multiple_deliveries</th>\n",
       "      <th>Festival</th>\n",
       "      <th>City</th>\n",
       "      <th>Time_taken (min)</th>\n",
       "    </tr>\n",
       "  </thead>\n",
       "  <tbody>\n",
       "    <tr>\n",
       "      <th>0</th>\n",
       "      <td>0</td>\n",
       "      <td>0x4607</td>\n",
       "      <td>INDORES13DEL02</td>\n",
       "      <td>37.0</td>\n",
       "      <td>4.9</td>\n",
       "      <td>22.745049</td>\n",
       "      <td>75.892471</td>\n",
       "      <td>22.765049</td>\n",
       "      <td>75.912471</td>\n",
       "      <td>19-03-2022</td>\n",
       "      <td>...</td>\n",
       "      <td>11:45</td>\n",
       "      <td>Sunny</td>\n",
       "      <td>High</td>\n",
       "      <td>2</td>\n",
       "      <td>Snack</td>\n",
       "      <td>motorcycle</td>\n",
       "      <td>0.0</td>\n",
       "      <td>No</td>\n",
       "      <td>Urban</td>\n",
       "      <td>24.0</td>\n",
       "    </tr>\n",
       "    <tr>\n",
       "      <th>1</th>\n",
       "      <td>1</td>\n",
       "      <td>0xb379</td>\n",
       "      <td>BANGRES18DEL02</td>\n",
       "      <td>34.0</td>\n",
       "      <td>4.5</td>\n",
       "      <td>12.913041</td>\n",
       "      <td>77.683237</td>\n",
       "      <td>13.043041</td>\n",
       "      <td>77.813237</td>\n",
       "      <td>25-03-2022</td>\n",
       "      <td>...</td>\n",
       "      <td>19:50</td>\n",
       "      <td>Stormy</td>\n",
       "      <td>Jam</td>\n",
       "      <td>2</td>\n",
       "      <td>Snack</td>\n",
       "      <td>scooter</td>\n",
       "      <td>1.0</td>\n",
       "      <td>No</td>\n",
       "      <td>Metropolitian</td>\n",
       "      <td>33.0</td>\n",
       "    </tr>\n",
       "    <tr>\n",
       "      <th>2</th>\n",
       "      <td>2</td>\n",
       "      <td>0x5d6d</td>\n",
       "      <td>BANGRES19DEL01</td>\n",
       "      <td>23.0</td>\n",
       "      <td>4.4</td>\n",
       "      <td>12.914264</td>\n",
       "      <td>77.678400</td>\n",
       "      <td>12.924264</td>\n",
       "      <td>77.688400</td>\n",
       "      <td>19-03-2022</td>\n",
       "      <td>...</td>\n",
       "      <td>8:45</td>\n",
       "      <td>Sandstorms</td>\n",
       "      <td>Low</td>\n",
       "      <td>0</td>\n",
       "      <td>Drinks</td>\n",
       "      <td>motorcycle</td>\n",
       "      <td>1.0</td>\n",
       "      <td>No</td>\n",
       "      <td>Urban</td>\n",
       "      <td>26.0</td>\n",
       "    </tr>\n",
       "    <tr>\n",
       "      <th>3</th>\n",
       "      <td>3</td>\n",
       "      <td>0x7a6a</td>\n",
       "      <td>COIMBRES13DEL02</td>\n",
       "      <td>38.0</td>\n",
       "      <td>4.7</td>\n",
       "      <td>11.003669</td>\n",
       "      <td>76.976494</td>\n",
       "      <td>11.053669</td>\n",
       "      <td>77.026494</td>\n",
       "      <td>05-04-2022</td>\n",
       "      <td>...</td>\n",
       "      <td>18:10</td>\n",
       "      <td>Sunny</td>\n",
       "      <td>Medium</td>\n",
       "      <td>0</td>\n",
       "      <td>Buffet</td>\n",
       "      <td>motorcycle</td>\n",
       "      <td>1.0</td>\n",
       "      <td>No</td>\n",
       "      <td>Metropolitian</td>\n",
       "      <td>21.0</td>\n",
       "    </tr>\n",
       "    <tr>\n",
       "      <th>4</th>\n",
       "      <td>4</td>\n",
       "      <td>0x70a2</td>\n",
       "      <td>CHENRES12DEL01</td>\n",
       "      <td>32.0</td>\n",
       "      <td>4.6</td>\n",
       "      <td>12.972793</td>\n",
       "      <td>80.249982</td>\n",
       "      <td>13.012793</td>\n",
       "      <td>80.289982</td>\n",
       "      <td>26-03-2022</td>\n",
       "      <td>...</td>\n",
       "      <td>13:45</td>\n",
       "      <td>Cloudy</td>\n",
       "      <td>High</td>\n",
       "      <td>1</td>\n",
       "      <td>Snack</td>\n",
       "      <td>scooter</td>\n",
       "      <td>1.0</td>\n",
       "      <td>No</td>\n",
       "      <td>Metropolitian</td>\n",
       "      <td>30.0</td>\n",
       "    </tr>\n",
       "  </tbody>\n",
       "</table>\n",
       "<p>5 rows × 21 columns</p>\n",
       "</div>"
      ],
      "text/plain": [
       "   Unnamed: 0      ID Delivery_person_ID  Delivery_person_Age  \\\n",
       "0           0  0x4607     INDORES13DEL02                 37.0   \n",
       "1           1  0xb379     BANGRES18DEL02                 34.0   \n",
       "2           2  0x5d6d     BANGRES19DEL01                 23.0   \n",
       "3           3  0x7a6a    COIMBRES13DEL02                 38.0   \n",
       "4           4  0x70a2     CHENRES12DEL01                 32.0   \n",
       "\n",
       "   Delivery_person_Ratings  Restaurant_latitude  Restaurant_longitude  \\\n",
       "0                      4.9            22.745049             75.892471   \n",
       "1                      4.5            12.913041             77.683237   \n",
       "2                      4.4            12.914264             77.678400   \n",
       "3                      4.7            11.003669             76.976494   \n",
       "4                      4.6            12.972793             80.249982   \n",
       "\n",
       "   Delivery_location_latitude  Delivery_location_longitude  Order_Date  ...  \\\n",
       "0                   22.765049                    75.912471  19-03-2022  ...   \n",
       "1                   13.043041                    77.813237  25-03-2022  ...   \n",
       "2                   12.924264                    77.688400  19-03-2022  ...   \n",
       "3                   11.053669                    77.026494  05-04-2022  ...   \n",
       "4                   13.012793                    80.289982  26-03-2022  ...   \n",
       "\n",
       "  Time_Order_picked Weather conditions Road_traffic_density Vehicle_condition  \\\n",
       "0             11:45              Sunny                 High                 2   \n",
       "1             19:50             Stormy                  Jam                 2   \n",
       "2              8:45         Sandstorms                  Low                 0   \n",
       "3             18:10              Sunny               Medium                 0   \n",
       "4             13:45             Cloudy                 High                 1   \n",
       "\n",
       "   Type_of_order Type_of_vehicle multiple_deliveries  Festival           City  \\\n",
       "0          Snack      motorcycle                 0.0        No          Urban   \n",
       "1          Snack         scooter                 1.0        No  Metropolitian   \n",
       "2         Drinks      motorcycle                 1.0        No          Urban   \n",
       "3         Buffet      motorcycle                 1.0        No  Metropolitian   \n",
       "4          Snack         scooter                 1.0        No  Metropolitian   \n",
       "\n",
       "  Time_taken (min)  \n",
       "0             24.0  \n",
       "1             33.0  \n",
       "2             26.0  \n",
       "3             21.0  \n",
       "4             30.0  \n",
       "\n",
       "[5 rows x 21 columns]"
      ]
     },
     "execution_count": 4,
     "metadata": {},
     "output_type": "execute_result"
    }
   ],
   "source": [
    "#lets check how data looks like\n",
    "train_df.head()"
   ]
  },
  {
   "cell_type": "code",
   "execution_count": 5,
   "id": "8810d8fc",
   "metadata": {},
   "outputs": [
    {
     "name": "stdout",
     "output_type": "stream",
     "text": [
      "<class 'pandas.core.frame.DataFrame'>\n",
      "RangeIndex: 45593 entries, 0 to 45592\n",
      "Data columns (total 21 columns):\n",
      " #   Column                       Non-Null Count  Dtype  \n",
      "---  ------                       --------------  -----  \n",
      " 0   Unnamed: 0                   45593 non-null  int64  \n",
      " 1   ID                           45593 non-null  object \n",
      " 2   Delivery_person_ID           45593 non-null  object \n",
      " 3   Delivery_person_Age          43739 non-null  float64\n",
      " 4   Delivery_person_Ratings      43685 non-null  float64\n",
      " 5   Restaurant_latitude          45593 non-null  float64\n",
      " 6   Restaurant_longitude         45593 non-null  float64\n",
      " 7   Delivery_location_latitude   45593 non-null  float64\n",
      " 8   Delivery_location_longitude  45593 non-null  float64\n",
      " 9   Order_Date                   45593 non-null  object \n",
      " 10  Time_Orderd                  43862 non-null  object \n",
      " 11  Time_Order_picked            45593 non-null  object \n",
      " 12  Weather conditions           44977 non-null  object \n",
      " 13  Road_traffic_density         44992 non-null  object \n",
      " 14  Vehicle_condition            45593 non-null  int64  \n",
      " 15  Type_of_order                45593 non-null  object \n",
      " 16  Type_of_vehicle              45593 non-null  object \n",
      " 17  multiple_deliveries          44600 non-null  float64\n",
      " 18  Festival                     45365 non-null  object \n",
      " 19  City                         44393 non-null  object \n",
      " 20  Time_taken (min)             45593 non-null  float64\n",
      "dtypes: float64(8), int64(2), object(11)\n",
      "memory usage: 7.3+ MB\n"
     ]
    }
   ],
   "source": [
    "#lets check the data types of the columns\n",
    "train_df.info()"
   ]
  },
  {
   "cell_type": "code",
   "execution_count": 6,
   "id": "eaf2ff7b",
   "metadata": {},
   "outputs": [
    {
     "data": {
      "text/html": [
       "<div>\n",
       "<style scoped>\n",
       "    .dataframe tbody tr th:only-of-type {\n",
       "        vertical-align: middle;\n",
       "    }\n",
       "\n",
       "    .dataframe tbody tr th {\n",
       "        vertical-align: top;\n",
       "    }\n",
       "\n",
       "    .dataframe thead th {\n",
       "        text-align: right;\n",
       "    }\n",
       "</style>\n",
       "<table border=\"1\" class=\"dataframe\">\n",
       "  <thead>\n",
       "    <tr style=\"text-align: right;\">\n",
       "      <th></th>\n",
       "      <th>Unnamed: 0</th>\n",
       "      <th>Delivery_person_Age</th>\n",
       "      <th>Delivery_person_Ratings</th>\n",
       "      <th>Restaurant_latitude</th>\n",
       "      <th>Restaurant_longitude</th>\n",
       "      <th>Delivery_location_latitude</th>\n",
       "      <th>Delivery_location_longitude</th>\n",
       "      <th>Vehicle_condition</th>\n",
       "      <th>multiple_deliveries</th>\n",
       "      <th>Time_taken (min)</th>\n",
       "    </tr>\n",
       "  </thead>\n",
       "  <tbody>\n",
       "    <tr>\n",
       "      <th>count</th>\n",
       "      <td>45593.000000</td>\n",
       "      <td>43739.000000</td>\n",
       "      <td>43685.000000</td>\n",
       "      <td>45593.000000</td>\n",
       "      <td>45593.000000</td>\n",
       "      <td>45593.000000</td>\n",
       "      <td>45593.000000</td>\n",
       "      <td>45593.000000</td>\n",
       "      <td>44600.000000</td>\n",
       "      <td>45593.000000</td>\n",
       "    </tr>\n",
       "    <tr>\n",
       "      <th>mean</th>\n",
       "      <td>22796.000000</td>\n",
       "      <td>29.567137</td>\n",
       "      <td>4.633780</td>\n",
       "      <td>17.017729</td>\n",
       "      <td>70.231332</td>\n",
       "      <td>17.465186</td>\n",
       "      <td>70.845702</td>\n",
       "      <td>1.023359</td>\n",
       "      <td>0.744664</td>\n",
       "      <td>26.294607</td>\n",
       "    </tr>\n",
       "    <tr>\n",
       "      <th>std</th>\n",
       "      <td>13161.709748</td>\n",
       "      <td>5.815155</td>\n",
       "      <td>0.334716</td>\n",
       "      <td>8.185109</td>\n",
       "      <td>22.883647</td>\n",
       "      <td>7.335122</td>\n",
       "      <td>21.118812</td>\n",
       "      <td>0.839065</td>\n",
       "      <td>0.572473</td>\n",
       "      <td>9.383806</td>\n",
       "    </tr>\n",
       "    <tr>\n",
       "      <th>min</th>\n",
       "      <td>0.000000</td>\n",
       "      <td>15.000000</td>\n",
       "      <td>1.000000</td>\n",
       "      <td>-30.905562</td>\n",
       "      <td>-88.366217</td>\n",
       "      <td>0.010000</td>\n",
       "      <td>0.010000</td>\n",
       "      <td>0.000000</td>\n",
       "      <td>0.000000</td>\n",
       "      <td>10.000000</td>\n",
       "    </tr>\n",
       "    <tr>\n",
       "      <th>25%</th>\n",
       "      <td>11398.000000</td>\n",
       "      <td>25.000000</td>\n",
       "      <td>4.500000</td>\n",
       "      <td>12.933284</td>\n",
       "      <td>73.170000</td>\n",
       "      <td>12.988453</td>\n",
       "      <td>73.280000</td>\n",
       "      <td>0.000000</td>\n",
       "      <td>0.000000</td>\n",
       "      <td>19.000000</td>\n",
       "    </tr>\n",
       "    <tr>\n",
       "      <th>50%</th>\n",
       "      <td>22796.000000</td>\n",
       "      <td>30.000000</td>\n",
       "      <td>4.700000</td>\n",
       "      <td>18.546947</td>\n",
       "      <td>75.898497</td>\n",
       "      <td>18.633934</td>\n",
       "      <td>76.002574</td>\n",
       "      <td>1.000000</td>\n",
       "      <td>1.000000</td>\n",
       "      <td>26.000000</td>\n",
       "    </tr>\n",
       "    <tr>\n",
       "      <th>75%</th>\n",
       "      <td>34194.000000</td>\n",
       "      <td>35.000000</td>\n",
       "      <td>4.900000</td>\n",
       "      <td>22.728163</td>\n",
       "      <td>78.044095</td>\n",
       "      <td>22.785049</td>\n",
       "      <td>78.107044</td>\n",
       "      <td>2.000000</td>\n",
       "      <td>1.000000</td>\n",
       "      <td>32.000000</td>\n",
       "    </tr>\n",
       "    <tr>\n",
       "      <th>max</th>\n",
       "      <td>45592.000000</td>\n",
       "      <td>50.000000</td>\n",
       "      <td>6.000000</td>\n",
       "      <td>30.914057</td>\n",
       "      <td>88.433452</td>\n",
       "      <td>31.054057</td>\n",
       "      <td>88.563452</td>\n",
       "      <td>3.000000</td>\n",
       "      <td>3.000000</td>\n",
       "      <td>54.000000</td>\n",
       "    </tr>\n",
       "  </tbody>\n",
       "</table>\n",
       "</div>"
      ],
      "text/plain": [
       "         Unnamed: 0  Delivery_person_Age  Delivery_person_Ratings  \\\n",
       "count  45593.000000         43739.000000             43685.000000   \n",
       "mean   22796.000000            29.567137                 4.633780   \n",
       "std    13161.709748             5.815155                 0.334716   \n",
       "min        0.000000            15.000000                 1.000000   \n",
       "25%    11398.000000            25.000000                 4.500000   \n",
       "50%    22796.000000            30.000000                 4.700000   \n",
       "75%    34194.000000            35.000000                 4.900000   \n",
       "max    45592.000000            50.000000                 6.000000   \n",
       "\n",
       "       Restaurant_latitude  Restaurant_longitude  Delivery_location_latitude  \\\n",
       "count         45593.000000          45593.000000                45593.000000   \n",
       "mean             17.017729             70.231332                   17.465186   \n",
       "std               8.185109             22.883647                    7.335122   \n",
       "min             -30.905562            -88.366217                    0.010000   \n",
       "25%              12.933284             73.170000                   12.988453   \n",
       "50%              18.546947             75.898497                   18.633934   \n",
       "75%              22.728163             78.044095                   22.785049   \n",
       "max              30.914057             88.433452                   31.054057   \n",
       "\n",
       "       Delivery_location_longitude  Vehicle_condition  multiple_deliveries  \\\n",
       "count                 45593.000000       45593.000000         44600.000000   \n",
       "mean                     70.845702           1.023359             0.744664   \n",
       "std                      21.118812           0.839065             0.572473   \n",
       "min                       0.010000           0.000000             0.000000   \n",
       "25%                      73.280000           0.000000             0.000000   \n",
       "50%                      76.002574           1.000000             1.000000   \n",
       "75%                      78.107044           2.000000             1.000000   \n",
       "max                      88.563452           3.000000             3.000000   \n",
       "\n",
       "       Time_taken (min)  \n",
       "count      45593.000000  \n",
       "mean          26.294607  \n",
       "std            9.383806  \n",
       "min           10.000000  \n",
       "25%           19.000000  \n",
       "50%           26.000000  \n",
       "75%           32.000000  \n",
       "max           54.000000  "
      ]
     },
     "execution_count": 6,
     "metadata": {},
     "output_type": "execute_result"
    }
   ],
   "source": [
    "#describe numerical column\n",
    "train_df.describe()"
   ]
  },
  {
   "cell_type": "code",
   "execution_count": 7,
   "id": "789c05af",
   "metadata": {},
   "outputs": [
    {
     "data": {
      "text/html": [
       "<div>\n",
       "<style scoped>\n",
       "    .dataframe tbody tr th:only-of-type {\n",
       "        vertical-align: middle;\n",
       "    }\n",
       "\n",
       "    .dataframe tbody tr th {\n",
       "        vertical-align: top;\n",
       "    }\n",
       "\n",
       "    .dataframe thead th {\n",
       "        text-align: right;\n",
       "    }\n",
       "</style>\n",
       "<table border=\"1\" class=\"dataframe\">\n",
       "  <thead>\n",
       "    <tr style=\"text-align: right;\">\n",
       "      <th></th>\n",
       "      <th>ID</th>\n",
       "      <th>Delivery_person_ID</th>\n",
       "      <th>Order_Date</th>\n",
       "      <th>Time_Orderd</th>\n",
       "      <th>Time_Order_picked</th>\n",
       "      <th>Weather conditions</th>\n",
       "      <th>Road_traffic_density</th>\n",
       "      <th>Type_of_order</th>\n",
       "      <th>Type_of_vehicle</th>\n",
       "      <th>Festival</th>\n",
       "      <th>City</th>\n",
       "    </tr>\n",
       "  </thead>\n",
       "  <tbody>\n",
       "    <tr>\n",
       "      <th>count</th>\n",
       "      <td>45593</td>\n",
       "      <td>45593</td>\n",
       "      <td>45593</td>\n",
       "      <td>43862</td>\n",
       "      <td>45593</td>\n",
       "      <td>44977</td>\n",
       "      <td>44992</td>\n",
       "      <td>45593</td>\n",
       "      <td>45593</td>\n",
       "      <td>45365</td>\n",
       "      <td>44393</td>\n",
       "    </tr>\n",
       "    <tr>\n",
       "      <th>unique</th>\n",
       "      <td>45593</td>\n",
       "      <td>1320</td>\n",
       "      <td>44</td>\n",
       "      <td>176</td>\n",
       "      <td>193</td>\n",
       "      <td>6</td>\n",
       "      <td>4</td>\n",
       "      <td>4</td>\n",
       "      <td>4</td>\n",
       "      <td>2</td>\n",
       "      <td>3</td>\n",
       "    </tr>\n",
       "    <tr>\n",
       "      <th>top</th>\n",
       "      <td>0x4607</td>\n",
       "      <td>PUNERES01DEL01</td>\n",
       "      <td>15-03-2022</td>\n",
       "      <td>21:55</td>\n",
       "      <td>21:30</td>\n",
       "      <td>Fog</td>\n",
       "      <td>Low</td>\n",
       "      <td>Snack</td>\n",
       "      <td>motorcycle</td>\n",
       "      <td>No</td>\n",
       "      <td>Metropolitian</td>\n",
       "    </tr>\n",
       "    <tr>\n",
       "      <th>freq</th>\n",
       "      <td>1</td>\n",
       "      <td>67</td>\n",
       "      <td>1192</td>\n",
       "      <td>461</td>\n",
       "      <td>496</td>\n",
       "      <td>7654</td>\n",
       "      <td>15477</td>\n",
       "      <td>11533</td>\n",
       "      <td>26435</td>\n",
       "      <td>44469</td>\n",
       "      <td>34093</td>\n",
       "    </tr>\n",
       "  </tbody>\n",
       "</table>\n",
       "</div>"
      ],
      "text/plain": [
       "            ID Delivery_person_ID  Order_Date Time_Orderd Time_Order_picked  \\\n",
       "count    45593              45593       45593       43862             45593   \n",
       "unique   45593               1320          44         176               193   \n",
       "top     0x4607     PUNERES01DEL01  15-03-2022       21:55             21:30   \n",
       "freq         1                 67        1192         461               496   \n",
       "\n",
       "       Weather conditions Road_traffic_density Type_of_order Type_of_vehicle  \\\n",
       "count               44977                44992         45593           45593   \n",
       "unique                  6                    4             4               4   \n",
       "top                   Fog                  Low         Snack      motorcycle   \n",
       "freq                 7654                15477         11533           26435   \n",
       "\n",
       "       Festival           City  \n",
       "count     45365          44393  \n",
       "unique        2              3  \n",
       "top          No  Metropolitian  \n",
       "freq      44469          34093  "
      ]
     },
     "execution_count": 7,
     "metadata": {},
     "output_type": "execute_result"
    }
   ],
   "source": [
    "#describe categorical column\n",
    "train_df.describe(include = ['O'])"
   ]
  },
  {
   "cell_type": "code",
   "execution_count": 8,
   "id": "c0745e6a",
   "metadata": {},
   "outputs": [
    {
     "data": {
      "text/plain": [
       "Unnamed: 0                     45593\n",
       "ID                             45593\n",
       "Delivery_person_ID              1320\n",
       "Delivery_person_Age               22\n",
       "Delivery_person_Ratings           28\n",
       "Restaurant_latitude              657\n",
       "Restaurant_longitude             518\n",
       "Delivery_location_latitude      4373\n",
       "Delivery_location_longitude     4373\n",
       "Order_Date                        44\n",
       "Time_Orderd                      176\n",
       "Time_Order_picked                193\n",
       "Weather conditions                 6\n",
       "Road_traffic_density               4\n",
       "Vehicle_condition                  4\n",
       "Type_of_order                      4\n",
       "Type_of_vehicle                    4\n",
       "multiple_deliveries                4\n",
       "Festival                           2\n",
       "City                               3\n",
       "Time_taken (min)                  45\n",
       "dtype: int64"
      ]
     },
     "execution_count": 8,
     "metadata": {},
     "output_type": "execute_result"
    }
   ],
   "source": [
    "# Check unique value for each attribute\n",
    "train_df.nunique()"
   ]
  },
  {
   "cell_type": "code",
   "execution_count": 9,
   "id": "5bb1925d",
   "metadata": {},
   "outputs": [],
   "source": [
    "# As 'ID' and 'Unnamed: 0'  columns are unique for each row and unnecessary we can remove those attributes\n",
    "train_df = train_df.drop(columns = ['Unnamed: 0','ID'], axis=1)\n",
    "ID = test_df['ID'].tolist() ## will requir for final submission\n",
    "test_df = test_df.drop(columns = ['Unnamed: 0','ID'], axis=1)"
   ]
  },
  {
   "cell_type": "code",
   "execution_count": 10,
   "id": "8261b5f8",
   "metadata": {},
   "outputs": [
    {
     "data": {
      "text/html": [
       "<div>\n",
       "<style scoped>\n",
       "    .dataframe tbody tr th:only-of-type {\n",
       "        vertical-align: middle;\n",
       "    }\n",
       "\n",
       "    .dataframe tbody tr th {\n",
       "        vertical-align: top;\n",
       "    }\n",
       "\n",
       "    .dataframe thead th {\n",
       "        text-align: right;\n",
       "    }\n",
       "</style>\n",
       "<table border=\"1\" class=\"dataframe\">\n",
       "  <thead>\n",
       "    <tr style=\"text-align: right;\">\n",
       "      <th></th>\n",
       "      <th>Delivery_person_Age</th>\n",
       "      <th>Delivery_person_Ratings</th>\n",
       "      <th>Restaurant_latitude</th>\n",
       "      <th>Restaurant_longitude</th>\n",
       "      <th>Delivery_location_latitude</th>\n",
       "      <th>Delivery_location_longitude</th>\n",
       "      <th>Vehicle_condition</th>\n",
       "      <th>multiple_deliveries</th>\n",
       "      <th>Time_taken (min)</th>\n",
       "    </tr>\n",
       "  </thead>\n",
       "  <tbody>\n",
       "    <tr>\n",
       "      <th>0</th>\n",
       "      <td>37.0</td>\n",
       "      <td>4.9</td>\n",
       "      <td>22.745049</td>\n",
       "      <td>75.892471</td>\n",
       "      <td>22.765049</td>\n",
       "      <td>75.912471</td>\n",
       "      <td>2</td>\n",
       "      <td>0.0</td>\n",
       "      <td>24.0</td>\n",
       "    </tr>\n",
       "    <tr>\n",
       "      <th>1</th>\n",
       "      <td>34.0</td>\n",
       "      <td>4.5</td>\n",
       "      <td>12.913041</td>\n",
       "      <td>77.683237</td>\n",
       "      <td>13.043041</td>\n",
       "      <td>77.813237</td>\n",
       "      <td>2</td>\n",
       "      <td>1.0</td>\n",
       "      <td>33.0</td>\n",
       "    </tr>\n",
       "    <tr>\n",
       "      <th>2</th>\n",
       "      <td>23.0</td>\n",
       "      <td>4.4</td>\n",
       "      <td>12.914264</td>\n",
       "      <td>77.678400</td>\n",
       "      <td>12.924264</td>\n",
       "      <td>77.688400</td>\n",
       "      <td>0</td>\n",
       "      <td>1.0</td>\n",
       "      <td>26.0</td>\n",
       "    </tr>\n",
       "    <tr>\n",
       "      <th>3</th>\n",
       "      <td>38.0</td>\n",
       "      <td>4.7</td>\n",
       "      <td>11.003669</td>\n",
       "      <td>76.976494</td>\n",
       "      <td>11.053669</td>\n",
       "      <td>77.026494</td>\n",
       "      <td>0</td>\n",
       "      <td>1.0</td>\n",
       "      <td>21.0</td>\n",
       "    </tr>\n",
       "    <tr>\n",
       "      <th>4</th>\n",
       "      <td>32.0</td>\n",
       "      <td>4.6</td>\n",
       "      <td>12.972793</td>\n",
       "      <td>80.249982</td>\n",
       "      <td>13.012793</td>\n",
       "      <td>80.289982</td>\n",
       "      <td>1</td>\n",
       "      <td>1.0</td>\n",
       "      <td>30.0</td>\n",
       "    </tr>\n",
       "    <tr>\n",
       "      <th>...</th>\n",
       "      <td>...</td>\n",
       "      <td>...</td>\n",
       "      <td>...</td>\n",
       "      <td>...</td>\n",
       "      <td>...</td>\n",
       "      <td>...</td>\n",
       "      <td>...</td>\n",
       "      <td>...</td>\n",
       "      <td>...</td>\n",
       "    </tr>\n",
       "    <tr>\n",
       "      <th>45588</th>\n",
       "      <td>30.0</td>\n",
       "      <td>4.8</td>\n",
       "      <td>26.902328</td>\n",
       "      <td>75.794257</td>\n",
       "      <td>26.912328</td>\n",
       "      <td>75.804257</td>\n",
       "      <td>1</td>\n",
       "      <td>0.0</td>\n",
       "      <td>32.0</td>\n",
       "    </tr>\n",
       "    <tr>\n",
       "      <th>45589</th>\n",
       "      <td>21.0</td>\n",
       "      <td>4.6</td>\n",
       "      <td>0.000000</td>\n",
       "      <td>0.000000</td>\n",
       "      <td>0.070000</td>\n",
       "      <td>0.070000</td>\n",
       "      <td>0</td>\n",
       "      <td>1.0</td>\n",
       "      <td>36.0</td>\n",
       "    </tr>\n",
       "    <tr>\n",
       "      <th>45590</th>\n",
       "      <td>30.0</td>\n",
       "      <td>4.9</td>\n",
       "      <td>13.022394</td>\n",
       "      <td>80.242439</td>\n",
       "      <td>13.052394</td>\n",
       "      <td>80.272439</td>\n",
       "      <td>1</td>\n",
       "      <td>0.0</td>\n",
       "      <td>16.0</td>\n",
       "    </tr>\n",
       "    <tr>\n",
       "      <th>45591</th>\n",
       "      <td>20.0</td>\n",
       "      <td>4.7</td>\n",
       "      <td>11.001753</td>\n",
       "      <td>76.986241</td>\n",
       "      <td>11.041753</td>\n",
       "      <td>77.026241</td>\n",
       "      <td>0</td>\n",
       "      <td>1.0</td>\n",
       "      <td>26.0</td>\n",
       "    </tr>\n",
       "    <tr>\n",
       "      <th>45592</th>\n",
       "      <td>23.0</td>\n",
       "      <td>4.9</td>\n",
       "      <td>23.351058</td>\n",
       "      <td>85.325731</td>\n",
       "      <td>23.431058</td>\n",
       "      <td>85.405731</td>\n",
       "      <td>2</td>\n",
       "      <td>1.0</td>\n",
       "      <td>36.0</td>\n",
       "    </tr>\n",
       "  </tbody>\n",
       "</table>\n",
       "<p>45593 rows × 9 columns</p>\n",
       "</div>"
      ],
      "text/plain": [
       "       Delivery_person_Age  Delivery_person_Ratings  Restaurant_latitude  \\\n",
       "0                     37.0                      4.9            22.745049   \n",
       "1                     34.0                      4.5            12.913041   \n",
       "2                     23.0                      4.4            12.914264   \n",
       "3                     38.0                      4.7            11.003669   \n",
       "4                     32.0                      4.6            12.972793   \n",
       "...                    ...                      ...                  ...   \n",
       "45588                 30.0                      4.8            26.902328   \n",
       "45589                 21.0                      4.6             0.000000   \n",
       "45590                 30.0                      4.9            13.022394   \n",
       "45591                 20.0                      4.7            11.001753   \n",
       "45592                 23.0                      4.9            23.351058   \n",
       "\n",
       "       Restaurant_longitude  Delivery_location_latitude  \\\n",
       "0                 75.892471                   22.765049   \n",
       "1                 77.683237                   13.043041   \n",
       "2                 77.678400                   12.924264   \n",
       "3                 76.976494                   11.053669   \n",
       "4                 80.249982                   13.012793   \n",
       "...                     ...                         ...   \n",
       "45588             75.794257                   26.912328   \n",
       "45589              0.000000                    0.070000   \n",
       "45590             80.242439                   13.052394   \n",
       "45591             76.986241                   11.041753   \n",
       "45592             85.325731                   23.431058   \n",
       "\n",
       "       Delivery_location_longitude  Vehicle_condition  multiple_deliveries  \\\n",
       "0                        75.912471                  2                  0.0   \n",
       "1                        77.813237                  2                  1.0   \n",
       "2                        77.688400                  0                  1.0   \n",
       "3                        77.026494                  0                  1.0   \n",
       "4                        80.289982                  1                  1.0   \n",
       "...                            ...                ...                  ...   \n",
       "45588                    75.804257                  1                  0.0   \n",
       "45589                     0.070000                  0                  1.0   \n",
       "45590                    80.272439                  1                  0.0   \n",
       "45591                    77.026241                  0                  1.0   \n",
       "45592                    85.405731                  2                  1.0   \n",
       "\n",
       "       Time_taken (min)  \n",
       "0                  24.0  \n",
       "1                  33.0  \n",
       "2                  26.0  \n",
       "3                  21.0  \n",
       "4                  30.0  \n",
       "...                 ...  \n",
       "45588              32.0  \n",
       "45589              36.0  \n",
       "45590              16.0  \n",
       "45591              26.0  \n",
       "45592              36.0  \n",
       "\n",
       "[45593 rows x 9 columns]"
      ]
     },
     "execution_count": 10,
     "metadata": {},
     "output_type": "execute_result"
    }
   ],
   "source": [
    "#Possibly there are variables that are numerical but represents categorical values or vice versa. Lets check.\n",
    "train_df.select_dtypes(np.number)"
   ]
  },
  {
   "cell_type": "markdown",
   "id": "dd4f332c",
   "metadata": {},
   "source": [
    "__Observation:__<br>\n",
    "Vehicle_condition it seems categorical.<br>\n",
    "Time_Orderd and Time_Order_picked should be numerical. Lets standardize the time related columns then. will convert them into hour<br>\n",
    "Also for multiple_deliveries what does it mean by 0. It is the number of orders to be delivered in one attempt."
   ]
  },
  {
   "cell_type": "code",
   "execution_count": 11,
   "id": "6402bc65",
   "metadata": {},
   "outputs": [],
   "source": [
    "#convert Vehicle_condition to categorical\n",
    "train_df['Vehicle_condition'] = train_df['Vehicle_condition'].astype(str)\n",
    "test_df['Vehicle_condition'] = test_df['Vehicle_condition'].astype(str)"
   ]
  },
  {
   "cell_type": "code",
   "execution_count": 12,
   "id": "467921bb",
   "metadata": {},
   "outputs": [],
   "source": [
    "#convert time related columns into hour\n",
    "def time_norm(x):\n",
    "    x= str(x).split(':')\n",
    "    if len(x)==2:\n",
    "        return(int(x[0])+int(x[1])/60)"
   ]
  },
  {
   "cell_type": "code",
   "execution_count": 13,
   "id": "8df08799",
   "metadata": {},
   "outputs": [],
   "source": [
    "train_df['Time_Orderd'] = train_df['Time_Orderd'].apply(lambda x: time_norm(x))\n",
    "test_df['Time_Orderd'] = test_df['Time_Orderd'].apply(lambda x: time_norm(x))"
   ]
  },
  {
   "cell_type": "code",
   "execution_count": 14,
   "id": "c0d7d21a",
   "metadata": {},
   "outputs": [],
   "source": [
    "train_df['Time_Order_picked'] = train_df['Time_Order_picked'].apply(lambda x: time_norm(x))\n",
    "test_df['Time_Order_picked'] = test_df['Time_Order_picked'].apply(lambda x: time_norm(x))"
   ]
  },
  {
   "cell_type": "code",
   "execution_count": 15,
   "id": "4330ef6c",
   "metadata": {},
   "outputs": [
    {
     "data": {
      "text/html": [
       "<div>\n",
       "<style scoped>\n",
       "    .dataframe tbody tr th:only-of-type {\n",
       "        vertical-align: middle;\n",
       "    }\n",
       "\n",
       "    .dataframe tbody tr th {\n",
       "        vertical-align: top;\n",
       "    }\n",
       "\n",
       "    .dataframe thead th {\n",
       "        text-align: right;\n",
       "    }\n",
       "</style>\n",
       "<table border=\"1\" class=\"dataframe\">\n",
       "  <thead>\n",
       "    <tr style=\"text-align: right;\">\n",
       "      <th></th>\n",
       "      <th>Delivery_person_Age</th>\n",
       "      <th>Delivery_person_Ratings</th>\n",
       "      <th>Restaurant_latitude</th>\n",
       "      <th>Restaurant_longitude</th>\n",
       "      <th>Delivery_location_latitude</th>\n",
       "      <th>Delivery_location_longitude</th>\n",
       "      <th>Time_Orderd</th>\n",
       "      <th>Time_Order_picked</th>\n",
       "      <th>multiple_deliveries</th>\n",
       "      <th>Time_taken (min)</th>\n",
       "    </tr>\n",
       "  </thead>\n",
       "  <tbody>\n",
       "    <tr>\n",
       "      <th>Delivery_person_Age</th>\n",
       "      <td>1.000000</td>\n",
       "      <td>-0.067939</td>\n",
       "      <td>-0.004532</td>\n",
       "      <td>-0.009347</td>\n",
       "      <td>0.002489</td>\n",
       "      <td>-0.000495</td>\n",
       "      <td>0.002892</td>\n",
       "      <td>0.002073</td>\n",
       "      <td>0.115851</td>\n",
       "      <td>0.299474</td>\n",
       "    </tr>\n",
       "    <tr>\n",
       "      <th>Delivery_person_Ratings</th>\n",
       "      <td>-0.067939</td>\n",
       "      <td>1.000000</td>\n",
       "      <td>-0.007792</td>\n",
       "      <td>-0.014203</td>\n",
       "      <td>-0.010318</td>\n",
       "      <td>-0.013552</td>\n",
       "      <td>-0.062268</td>\n",
       "      <td>-0.059903</td>\n",
       "      <td>-0.117647</td>\n",
       "      <td>-0.338790</td>\n",
       "    </tr>\n",
       "    <tr>\n",
       "      <th>Restaurant_latitude</th>\n",
       "      <td>-0.004532</td>\n",
       "      <td>-0.007792</td>\n",
       "      <td>1.000000</td>\n",
       "      <td>0.661784</td>\n",
       "      <td>0.866378</td>\n",
       "      <td>0.602713</td>\n",
       "      <td>0.006534</td>\n",
       "      <td>0.004963</td>\n",
       "      <td>0.008051</td>\n",
       "      <td>0.013981</td>\n",
       "    </tr>\n",
       "    <tr>\n",
       "      <th>Restaurant_longitude</th>\n",
       "      <td>-0.009347</td>\n",
       "      <td>-0.014203</td>\n",
       "      <td>0.661784</td>\n",
       "      <td>1.000000</td>\n",
       "      <td>0.632293</td>\n",
       "      <td>0.915026</td>\n",
       "      <td>-0.001915</td>\n",
       "      <td>-0.003137</td>\n",
       "      <td>0.004461</td>\n",
       "      <td>0.007821</td>\n",
       "    </tr>\n",
       "    <tr>\n",
       "      <th>Delivery_location_latitude</th>\n",
       "      <td>0.002489</td>\n",
       "      <td>-0.010318</td>\n",
       "      <td>0.866378</td>\n",
       "      <td>0.632293</td>\n",
       "      <td>1.000000</td>\n",
       "      <td>0.690515</td>\n",
       "      <td>0.010082</td>\n",
       "      <td>0.010226</td>\n",
       "      <td>0.010277</td>\n",
       "      <td>0.014243</td>\n",
       "    </tr>\n",
       "    <tr>\n",
       "      <th>Delivery_location_longitude</th>\n",
       "      <td>-0.000495</td>\n",
       "      <td>-0.013552</td>\n",
       "      <td>0.602713</td>\n",
       "      <td>0.915026</td>\n",
       "      <td>0.690515</td>\n",
       "      <td>1.000000</td>\n",
       "      <td>-0.000822</td>\n",
       "      <td>-0.000296</td>\n",
       "      <td>0.005023</td>\n",
       "      <td>0.007625</td>\n",
       "    </tr>\n",
       "    <tr>\n",
       "      <th>Time_Orderd</th>\n",
       "      <td>0.002892</td>\n",
       "      <td>-0.062268</td>\n",
       "      <td>0.006534</td>\n",
       "      <td>-0.001915</td>\n",
       "      <td>0.010082</td>\n",
       "      <td>-0.000822</td>\n",
       "      <td>1.000000</td>\n",
       "      <td>0.999887</td>\n",
       "      <td>0.065321</td>\n",
       "      <td>0.173267</td>\n",
       "    </tr>\n",
       "    <tr>\n",
       "      <th>Time_Order_picked</th>\n",
       "      <td>0.002073</td>\n",
       "      <td>-0.059903</td>\n",
       "      <td>0.004963</td>\n",
       "      <td>-0.003137</td>\n",
       "      <td>0.010226</td>\n",
       "      <td>-0.000296</td>\n",
       "      <td>0.999887</td>\n",
       "      <td>1.000000</td>\n",
       "      <td>0.065410</td>\n",
       "      <td>0.173253</td>\n",
       "    </tr>\n",
       "    <tr>\n",
       "      <th>multiple_deliveries</th>\n",
       "      <td>0.115851</td>\n",
       "      <td>-0.117647</td>\n",
       "      <td>0.008051</td>\n",
       "      <td>0.004461</td>\n",
       "      <td>0.010277</td>\n",
       "      <td>0.005023</td>\n",
       "      <td>0.065321</td>\n",
       "      <td>0.065410</td>\n",
       "      <td>1.000000</td>\n",
       "      <td>0.387051</td>\n",
       "    </tr>\n",
       "    <tr>\n",
       "      <th>Time_taken (min)</th>\n",
       "      <td>0.299474</td>\n",
       "      <td>-0.338790</td>\n",
       "      <td>0.013981</td>\n",
       "      <td>0.007821</td>\n",
       "      <td>0.014243</td>\n",
       "      <td>0.007625</td>\n",
       "      <td>0.173267</td>\n",
       "      <td>0.173253</td>\n",
       "      <td>0.387051</td>\n",
       "      <td>1.000000</td>\n",
       "    </tr>\n",
       "  </tbody>\n",
       "</table>\n",
       "</div>"
      ],
      "text/plain": [
       "                             Delivery_person_Age  Delivery_person_Ratings  \\\n",
       "Delivery_person_Age                     1.000000                -0.067939   \n",
       "Delivery_person_Ratings                -0.067939                 1.000000   \n",
       "Restaurant_latitude                    -0.004532                -0.007792   \n",
       "Restaurant_longitude                   -0.009347                -0.014203   \n",
       "Delivery_location_latitude              0.002489                -0.010318   \n",
       "Delivery_location_longitude            -0.000495                -0.013552   \n",
       "Time_Orderd                             0.002892                -0.062268   \n",
       "Time_Order_picked                       0.002073                -0.059903   \n",
       "multiple_deliveries                     0.115851                -0.117647   \n",
       "Time_taken (min)                        0.299474                -0.338790   \n",
       "\n",
       "                             Restaurant_latitude  Restaurant_longitude  \\\n",
       "Delivery_person_Age                    -0.004532             -0.009347   \n",
       "Delivery_person_Ratings                -0.007792             -0.014203   \n",
       "Restaurant_latitude                     1.000000              0.661784   \n",
       "Restaurant_longitude                    0.661784              1.000000   \n",
       "Delivery_location_latitude              0.866378              0.632293   \n",
       "Delivery_location_longitude             0.602713              0.915026   \n",
       "Time_Orderd                             0.006534             -0.001915   \n",
       "Time_Order_picked                       0.004963             -0.003137   \n",
       "multiple_deliveries                     0.008051              0.004461   \n",
       "Time_taken (min)                        0.013981              0.007821   \n",
       "\n",
       "                             Delivery_location_latitude  \\\n",
       "Delivery_person_Age                            0.002489   \n",
       "Delivery_person_Ratings                       -0.010318   \n",
       "Restaurant_latitude                            0.866378   \n",
       "Restaurant_longitude                           0.632293   \n",
       "Delivery_location_latitude                     1.000000   \n",
       "Delivery_location_longitude                    0.690515   \n",
       "Time_Orderd                                    0.010082   \n",
       "Time_Order_picked                              0.010226   \n",
       "multiple_deliveries                            0.010277   \n",
       "Time_taken (min)                               0.014243   \n",
       "\n",
       "                             Delivery_location_longitude  Time_Orderd  \\\n",
       "Delivery_person_Age                            -0.000495     0.002892   \n",
       "Delivery_person_Ratings                        -0.013552    -0.062268   \n",
       "Restaurant_latitude                             0.602713     0.006534   \n",
       "Restaurant_longitude                            0.915026    -0.001915   \n",
       "Delivery_location_latitude                      0.690515     0.010082   \n",
       "Delivery_location_longitude                     1.000000    -0.000822   \n",
       "Time_Orderd                                    -0.000822     1.000000   \n",
       "Time_Order_picked                              -0.000296     0.999887   \n",
       "multiple_deliveries                             0.005023     0.065321   \n",
       "Time_taken (min)                                0.007625     0.173267   \n",
       "\n",
       "                             Time_Order_picked  multiple_deliveries  \\\n",
       "Delivery_person_Age                   0.002073             0.115851   \n",
       "Delivery_person_Ratings              -0.059903            -0.117647   \n",
       "Restaurant_latitude                   0.004963             0.008051   \n",
       "Restaurant_longitude                 -0.003137             0.004461   \n",
       "Delivery_location_latitude            0.010226             0.010277   \n",
       "Delivery_location_longitude          -0.000296             0.005023   \n",
       "Time_Orderd                           0.999887             0.065321   \n",
       "Time_Order_picked                     1.000000             0.065410   \n",
       "multiple_deliveries                   0.065410             1.000000   \n",
       "Time_taken (min)                      0.173253             0.387051   \n",
       "\n",
       "                             Time_taken (min)  \n",
       "Delivery_person_Age                  0.299474  \n",
       "Delivery_person_Ratings             -0.338790  \n",
       "Restaurant_latitude                  0.013981  \n",
       "Restaurant_longitude                 0.007821  \n",
       "Delivery_location_latitude           0.014243  \n",
       "Delivery_location_longitude          0.007625  \n",
       "Time_Orderd                          0.173267  \n",
       "Time_Order_picked                    0.173253  \n",
       "multiple_deliveries                  0.387051  \n",
       "Time_taken (min)                     1.000000  "
      ]
     },
     "execution_count": 15,
     "metadata": {},
     "output_type": "execute_result"
    }
   ],
   "source": [
    "train_df.corr()"
   ]
  },
  {
   "cell_type": "markdown",
   "id": "6bc7cb39",
   "metadata": {},
   "source": [
    "## 3.b) Analysis of numerical and categorical attributes"
   ]
  },
  {
   "cell_type": "markdown",
   "id": "b7e94686",
   "metadata": {},
   "source": [
    "Lets analyze Numerical and Categorical variables separately. For this we divide the entire set into two parts. quantitative and qualitative"
   ]
  },
  {
   "cell_type": "code",
   "execution_count": 16,
   "id": "ee7882de",
   "metadata": {},
   "outputs": [],
   "source": [
    "quantitative = []\n",
    "qualitative = []\n",
    "for i in train_df.columns:\n",
    "    if train_df.dtypes[i] != 'object':\n",
    "        quantitative.append(i)\n",
    "    else:\n",
    "        qualitative.append(i)"
   ]
  },
  {
   "cell_type": "code",
   "execution_count": 17,
   "id": "ed7c4c45",
   "metadata": {},
   "outputs": [
    {
     "name": "stdout",
     "output_type": "stream",
     "text": [
      "Numerical ::  ['Delivery_person_Age', 'Delivery_person_Ratings', 'Restaurant_latitude', 'Restaurant_longitude', 'Delivery_location_latitude', 'Delivery_location_longitude', 'Time_Orderd', 'Time_Order_picked', 'multiple_deliveries', 'Time_taken (min)']\n",
      "\n",
      "Catagorical ::  ['Delivery_person_ID', 'Order_Date', 'Weather conditions', 'Road_traffic_density', 'Vehicle_condition', 'Type_of_order', 'Type_of_vehicle', 'Festival', 'City']\n"
     ]
    }
   ],
   "source": [
    "print('Numerical :: ',quantitative)\n",
    "print('\\nCatagorical :: ',qualitative)"
   ]
  },
  {
   "cell_type": "code",
   "execution_count": 18,
   "id": "6864011c",
   "metadata": {},
   "outputs": [],
   "source": [
    "qualitative.remove('Delivery_person_ID')\n",
    "qualitative.remove('Order_Date')"
   ]
  },
  {
   "cell_type": "code",
   "execution_count": 19,
   "id": "2c396bae",
   "metadata": {},
   "outputs": [],
   "source": [
    "#sns.pairplot(train_df)"
   ]
  },
  {
   "cell_type": "code",
   "execution_count": 20,
   "id": "aae16f70",
   "metadata": {},
   "outputs": [
    {
     "data": {
      "image/png": "[encoded data removed]",
      "text/plain": [
       "<Figure size 1296x720 with 12 Axes>"
      ]
     },
     "metadata": {
      "needs_background": "light"
     },
     "output_type": "display_data"
    }
   ],
   "source": [
    "#Analyzing nuumerical variable\n",
    "train_df[quantitative].hist(bins=15, figsize=(18, 10));"
   ]
  },
  {
   "cell_type": "code",
   "execution_count": 21,
   "id": "395c02a0",
   "metadata": {},
   "outputs": [
    {
     "data": {
      "image/png": "[encoded data removed]",
      "text/plain": [
       "<Figure size 1584x864 with 8 Axes>"
      ]
     },
     "metadata": {
      "needs_background": "light"
     },
     "output_type": "display_data"
    }
   ],
   "source": [
    "#Analyzing categorical variable\n",
    "fig, ax = plt.subplots(2, 4, figsize=(22, 12))\n",
    "for variable, subplot in zip(qualitative, ax.flatten()):\n",
    "    sns.countplot(train_df[variable], ax=subplot)\n",
    "    for label in subplot.get_xticklabels():\n",
    "        label.set_rotation(90)"
   ]
  },
  {
   "cell_type": "code",
   "execution_count": 22,
   "id": "85134770",
   "metadata": {},
   "outputs": [
    {
     "data": {
      "application/vnd.jupyter.widget-view+json": {
       "model_id": "9d75a3373ddb463aa87278c4ae12bd98",
       "version_major": 2,
       "version_minor": 0
      },
      "text/plain": [
       "Summarize dataset:   0%|          | 0/5 [00:00<?, ?it/s]"
      ]
     },
     "metadata": {},
     "output_type": "display_data"
    },
    {
     "data": {
      "application/vnd.jupyter.widget-view+json": {
       "model_id": "d376067ddebd4078a173b389fe200514",
       "version_major": 2,
       "version_minor": 0
      },
      "text/plain": [
       "Generate report structure:   0%|          | 0/1 [00:00<?, ?it/s]"
      ]
     },
     "metadata": {},
     "output_type": "display_data"
    },
    {
     "data": {
      "application/vnd.jupyter.widget-view+json": {
       "model_id": "7fef96430a644adc94b96492453d1bfe",
       "version_major": 2,
       "version_minor": 0
      },
      "text/plain": [
       "Render HTML:   0%|          | 0/1 [00:00<?, ?it/s]"
      ]
     },
     "metadata": {},
     "output_type": "display_data"
    },
    {
     "data": {
      "application/vnd.jupyter.widget-view+json": {
       "model_id": "6410d3d853e542a3a49f62680deffa33",
       "version_major": 2,
       "version_minor": 0
      },
      "text/plain": [
       "Export report to file:   0%|          | 0/1 [00:00<?, ?it/s]"
      ]
     },
     "metadata": {},
     "output_type": "display_data"
    }
   ],
   "source": [
    "#Pandas profiling\n",
    "profile = pp.ProfileReport(train_df)\n",
    "profile.to_file(\"EDA_profile.html\")"
   ]
  },
  {
   "cell_type": "markdown",
   "id": "f325d2bf",
   "metadata": {},
   "source": [
    "## 4. Handling Missing Value"
   ]
  },
  {
   "cell_type": "code",
   "execution_count": 23,
   "id": "709f9660",
   "metadata": {},
   "outputs": [
    {
     "data": {
      "text/plain": [
       "Delivery_person_ID                0\n",
       "Delivery_person_Age            1854\n",
       "Delivery_person_Ratings        1908\n",
       "Restaurant_latitude               0\n",
       "Restaurant_longitude              0\n",
       "Delivery_location_latitude        0\n",
       "Delivery_location_longitude       0\n",
       "Order_Date                        0\n",
       "Time_Orderd                    1731\n",
       "Time_Order_picked                 0\n",
       "Weather conditions              616\n",
       "Road_traffic_density            601\n",
       "Vehicle_condition                 0\n",
       "Type_of_order                     0\n",
       "Type_of_vehicle                   0\n",
       "multiple_deliveries             993\n",
       "Festival                        228\n",
       "City                           1200\n",
       "Time_taken (min)                  0\n",
       "dtype: int64"
      ]
     },
     "execution_count": 23,
     "metadata": {},
     "output_type": "execute_result"
    }
   ],
   "source": [
    "#Check for missing value\n",
    "train_df.isnull().sum()"
   ]
  },
  {
   "cell_type": "code",
   "execution_count": 24,
   "id": "b534577e",
   "metadata": {},
   "outputs": [
    {
     "data": {
      "text/plain": [
       "Delivery_person_Ratings    4.184853\n",
       "Delivery_person_Age        4.066414\n",
       "Time_Orderd                3.796635\n",
       "City                       2.631983\n",
       "multiple_deliveries        2.177966\n",
       "Weather conditions         1.351085\n",
       "Road_traffic_density       1.318185\n",
       "Festival                   0.500077\n",
       "dtype: float64"
      ]
     },
     "execution_count": 24,
     "metadata": {},
     "output_type": "execute_result"
    }
   ],
   "source": [
    "#Check missing data percentage\n",
    "missing = (train_df.isnull().sum() / train_df.shape[0] * 100).sort_values(ascending=False)\n",
    "missing = missing[missing > 0]\n",
    "missing"
   ]
  },
  {
   "cell_type": "markdown",
   "id": "a3b1276d",
   "metadata": {},
   "source": [
    "#### 4.a) Impute Missing value for numerical data<br>\n",
    "Time_Orderd    --->                1731<br>\n",
    "Delay            --->              1731<br>\n",
    "Delivery_person_Age      --->      1854<br>\n",
    "Delivery_person_Ratings    --->    1908<br>\n",
    "Time_Orderd         --->           1731<br>"
   ]
  },
  {
   "cell_type": "markdown",
   "id": "b16db5ad",
   "metadata": {},
   "source": [
    "Time_Orderd: Its a time variable we can't simply put the missing value by mean/median/mode. But we have another attribute as Time_Order_picked. From this variable can we try to relate Time_Orderd. We can calculate the average delay from order time and picked time then based on the average delay we impute the missing value.<br> \n",
    "__average_delay__ come from feature engineering section"
   ]
  },
  {
   "cell_type": "code",
   "execution_count": 25,
   "id": "76d66768",
   "metadata": {},
   "outputs": [],
   "source": [
    "train_df['Delay'] = train_df['Time_Order_picked'] - train_df['Time_Orderd']\n",
    "test_df['Delay'] = test_df['Time_Order_picked'] - test_df['Time_Orderd']"
   ]
  },
  {
   "cell_type": "code",
   "execution_count": 26,
   "id": "8e04f563",
   "metadata": {},
   "outputs": [
    {
     "name": "stdout",
     "output_type": "stream",
     "text": [
      "average_delay::  0.16648997613727898\n"
     ]
    }
   ],
   "source": [
    "average_delay = train_df['Delay'].mean()\n",
    "print('average_delay:: ',average_delay)"
   ]
  },
  {
   "cell_type": "code",
   "execution_count": 27,
   "id": "f581a8d9",
   "metadata": {},
   "outputs": [],
   "source": [
    "train_df['Time_Orderd'] = train_df['Time_Orderd'].fillna(train_df['Time_Order_picked'] - average_delay)\n",
    "test_df['Time_Orderd'] = test_df['Time_Orderd'].fillna(test_df['Time_Order_picked'] - average_delay)"
   ]
  },
  {
   "cell_type": "code",
   "execution_count": 28,
   "id": "6b444d65",
   "metadata": {},
   "outputs": [
    {
     "data": {
      "text/plain": [
       "<AxesSubplot:xlabel='Delivery_person_Age', ylabel='count'>"
      ]
     },
     "execution_count": 28,
     "metadata": {},
     "output_type": "execute_result"
    },
    {
     "data": {
      "image/png": "[encoded data removed]",
      "text/plain": [
       "<Figure size 576x360 with 1 Axes>"
      ]
     },
     "metadata": {
      "needs_background": "light"
     },
     "output_type": "display_data"
    }
   ],
   "source": [
    "#Delivery_person_Age\n",
    "plt.figure(figsize=(8,5))\n",
    "sns.countplot('Delivery_person_Age',data=train_df,palette='ocean')"
   ]
  },
  {
   "cell_type": "code",
   "execution_count": 29,
   "id": "1ceb102a",
   "metadata": {},
   "outputs": [
    {
     "data": {
      "text/plain": [
       "<AxesSubplot:xlabel='Delivery_person_Ratings', ylabel='count'>"
      ]
     },
     "execution_count": 29,
     "metadata": {},
     "output_type": "execute_result"
    },
    {
     "data": {
      "image/png": "[encoded data removed]",
      "text/plain": [
       "<Figure size 576x360 with 1 Axes>"
      ]
     },
     "metadata": {
      "needs_background": "light"
     },
     "output_type": "display_data"
    }
   ],
   "source": [
    "#Delivery_person_Ratings\n",
    "plt.figure(figsize=(8,5))\n",
    "sns.countplot('Delivery_person_Ratings',data=train_df,palette='ocean')"
   ]
  },
  {
   "cell_type": "code",
   "execution_count": 30,
   "id": "ac90d6e1",
   "metadata": {},
   "outputs": [
    {
     "data": {
      "text/plain": [
       "<AxesSubplot:xlabel='multiple_deliveries', ylabel='count'>"
      ]
     },
     "execution_count": 30,
     "metadata": {},
     "output_type": "execute_result"
    },
    {
     "data": {
      "image/png": "[encoded data removed]",
      "text/plain": [
       "<Figure size 576x360 with 1 Axes>"
      ]
     },
     "metadata": {
      "needs_background": "light"
     },
     "output_type": "display_data"
    }
   ],
   "source": [
    "#Delivery_person_Ratings\n",
    "plt.figure(figsize=(8,5))\n",
    "sns.countplot('multiple_deliveries',data=train_df,palette='ocean')"
   ]
  },
  {
   "cell_type": "markdown",
   "id": "5482f2da",
   "metadata": {},
   "source": [
    "__Observations__:<br>\n",
    "If Delivery_person_Age is Missed then Delivery_person_Ratings is also missed<br>\n",
    "For multiple_deliveries we can impute by median as less missing data<br>\n",
    "for other two(Delivery_person_Age, Delivery_person_Ratings) let us try knn imputer"
   ]
  },
  {
   "cell_type": "code",
   "execution_count": 31,
   "id": "34ae6dc3",
   "metadata": {},
   "outputs": [],
   "source": [
    "train_df['multiple_deliveries'] = train_df['multiple_deliveries'].fillna(train_df['multiple_deliveries'].median())\n",
    "test_df['multiple_deliveries'] = test_df['multiple_deliveries'].fillna(test_df['multiple_deliveries'].median())"
   ]
  },
  {
   "cell_type": "code",
   "execution_count": 32,
   "id": "1a7a4291",
   "metadata": {},
   "outputs": [],
   "source": [
    "train_df_numeric = train_df.select_dtypes(np.number)"
   ]
  },
  {
   "cell_type": "code",
   "execution_count": 33,
   "id": "e8fdba7c",
   "metadata": {},
   "outputs": [],
   "source": [
    "#impute for traindata\n",
    "imputer = KNNImputer(n_neighbors=5)\n",
    "train_df_numeric = pd.DataFrame(imputer.fit_transform(train_df_numeric), columns=train_df_numeric.columns)"
   ]
  },
  {
   "cell_type": "code",
   "execution_count": 34,
   "id": "9571caa3",
   "metadata": {},
   "outputs": [],
   "source": [
    "for i in train_df_numeric.columns:\n",
    "    train_df[i] = train_df_numeric[i]"
   ]
  },
  {
   "cell_type": "code",
   "execution_count": 35,
   "id": "5e14768f",
   "metadata": {},
   "outputs": [],
   "source": [
    "#impute for testdata\n",
    "test_df_numeric = test_df.select_dtypes(np.number)\n",
    "imputer = KNNImputer(n_neighbors=5)\n",
    "test_df_numeric = pd.DataFrame(imputer.fit_transform(test_df_numeric), columns=test_df_numeric.columns)\n",
    "\n",
    "for i in test_df_numeric.columns:\n",
    "    test_df[i] = test_df_numeric[i]"
   ]
  },
  {
   "cell_type": "markdown",
   "id": "b00de1f2",
   "metadata": {},
   "source": [
    "#### 4.b) Impute Missing value for categorical data:<br>\n",
    "Weather conditions    --->         158<br>\n",
    "Road_traffic_density    --->       154<br>\n",
    "Festival          --->              65<br>\n",
    "City              --->             324<br>"
   ]
  },
  {
   "cell_type": "code",
   "execution_count": 36,
   "id": "3680e0ad",
   "metadata": {},
   "outputs": [
    {
     "data": {
      "text/plain": [
       "<AxesSubplot:xlabel='City', ylabel='count'>"
      ]
     },
     "execution_count": 36,
     "metadata": {},
     "output_type": "execute_result"
    },
    {
     "data": {
      "image/png": "[encoded data removed]",
      "text/plain": [
       "<Figure size 576x360 with 1 Axes>"
      ]
     },
     "metadata": {
      "needs_background": "light"
     },
     "output_type": "display_data"
    }
   ],
   "source": [
    "plt.figure(figsize=(8,5))\n",
    "sns.countplot('City',data=train_df,palette='ocean')"
   ]
  },
  {
   "cell_type": "code",
   "execution_count": 37,
   "id": "f4356164",
   "metadata": {},
   "outputs": [
    {
     "data": {
      "text/plain": [
       "<AxesSubplot:xlabel='Festival', ylabel='count'>"
      ]
     },
     "execution_count": 37,
     "metadata": {},
     "output_type": "execute_result"
    },
    {
     "data": {
      "image/png": "[encoded data removed]",
      "text/plain": [
       "<Figure size 576x360 with 1 Axes>"
      ]
     },
     "metadata": {
      "needs_background": "light"
     },
     "output_type": "display_data"
    }
   ],
   "source": [
    "plt.figure(figsize=(8,5))\n",
    "sns.countplot('Festival',data=train_df,palette='ocean')"
   ]
  },
  {
   "cell_type": "code",
   "execution_count": 38,
   "id": "18aabcac",
   "metadata": {},
   "outputs": [
    {
     "data": {
      "text/plain": [
       "<AxesSubplot:xlabel='Weather conditions', ylabel='count'>"
      ]
     },
     "execution_count": 38,
     "metadata": {},
     "output_type": "execute_result"
    },
    {
     "data": {
      "image/png": "[encoded data removed]",
      "text/plain": [
       "<Figure size 576x360 with 1 Axes>"
      ]
     },
     "metadata": {
      "needs_background": "light"
     },
     "output_type": "display_data"
    }
   ],
   "source": [
    "plt.figure(figsize=(8,5))\n",
    "sns.countplot('Weather conditions',data=train_df,palette='ocean')"
   ]
  },
  {
   "cell_type": "code",
   "execution_count": 39,
   "id": "f6199e83",
   "metadata": {},
   "outputs": [
    {
     "data": {
      "text/plain": [
       "<AxesSubplot:xlabel='Road_traffic_density', ylabel='count'>"
      ]
     },
     "execution_count": 39,
     "metadata": {},
     "output_type": "execute_result"
    },
    {
     "data": {
      "image/png": "[encoded data removed]",
      "text/plain": [
       "<Figure size 576x360 with 1 Axes>"
      ]
     },
     "metadata": {
      "needs_background": "light"
     },
     "output_type": "display_data"
    }
   ],
   "source": [
    "plt.figure(figsize=(8,5))\n",
    "sns.countplot('Road_traffic_density',data=train_df,palette='ocean')"
   ]
  },
  {
   "cell_type": "markdown",
   "id": "64d4b62a",
   "metadata": {},
   "source": [
    "__Observations__:<br>\n",
    "\n",
    "For City we can impute them by metropolitian(mode)<br>\n",
    "For Festival we can impute them by No(mode)<br>\n",
    "For Weather conditions it is difficult<br>\n",
    "For Road_traffic_density also it is bit difficult<br>\n",
    "Almost all cases where Weather conditions in NAN then Road_traffic_density is also NAN.<br>\n",
    "As the count is very low for now we are imputing the missing value as mode for the column Road_traffic_density and Weather conditions. Otherwise we had to treat them as a separate value."
   ]
  },
  {
   "cell_type": "code",
   "execution_count": 40,
   "id": "7e7c5773",
   "metadata": {},
   "outputs": [],
   "source": [
    "#traindata\n",
    "for i in qualitative:\n",
    "        train_df[i] = train_df[i].fillna(train_df[i].mode()[0])"
   ]
  },
  {
   "cell_type": "code",
   "execution_count": 41,
   "id": "6043425e",
   "metadata": {},
   "outputs": [],
   "source": [
    "#testdata\n",
    "for i in qualitative:\n",
    "        test_df[i] = test_df[i].fillna(test_df[i].mode()[0])"
   ]
  },
  {
   "cell_type": "code",
   "execution_count": 42,
   "id": "006ccadf",
   "metadata": {},
   "outputs": [
    {
     "data": {
      "text/plain": [
       "0"
      ]
     },
     "execution_count": 42,
     "metadata": {},
     "output_type": "execute_result"
    }
   ],
   "source": [
    "train_df.isnull().sum().sum()"
   ]
  },
  {
   "cell_type": "markdown",
   "id": "cde8f638",
   "metadata": {},
   "source": [
    "No more missing value. good !! Lets try to visualize the relationship with target variable"
   ]
  },
  {
   "cell_type": "markdown",
   "id": "fa69a36d",
   "metadata": {},
   "source": [
    "## 5. Relationship with Target variable"
   ]
  },
  {
   "cell_type": "code",
   "execution_count": 43,
   "id": "b7bd4bc9",
   "metadata": {},
   "outputs": [
    {
     "data": {
      "image/png": "[encoded data removed]",
      "text/plain": [
       "<Figure size 432x288 with 1 Axes>"
      ]
     },
     "metadata": {
      "needs_background": "light"
     },
     "output_type": "display_data"
    }
   ],
   "source": [
    "#Delivery_person_Age vs Time_taken (min)\n",
    "train_df.plot.scatter(x = 'Delivery_person_Age', y = 'Time_taken (min)', s = 40);"
   ]
  },
  {
   "cell_type": "code",
   "execution_count": 44,
   "id": "17707c6a",
   "metadata": {},
   "outputs": [
    {
     "data": {
      "image/png": "[encoded data removed]",
      "text/plain": [
       "<Figure size 432x288 with 1 Axes>"
      ]
     },
     "metadata": {
      "needs_background": "light"
     },
     "output_type": "display_data"
    }
   ],
   "source": [
    "#Delivery_person_Ratings vs Time_taken (min)\n",
    "train_df.plot.scatter(x = 'Delivery_person_Ratings', y = 'Time_taken (min)', s = 40);"
   ]
  },
  {
   "cell_type": "code",
   "execution_count": 45,
   "id": "5d5e319f",
   "metadata": {},
   "outputs": [
    {
     "data": {
      "image/png": "[encoded data removed]",
      "text/plain": [
       "<Figure size 432x288 with 1 Axes>"
      ]
     },
     "metadata": {
      "needs_background": "light"
     },
     "output_type": "display_data"
    }
   ],
   "source": [
    "#Restaurant_latitude vs Time_taken (min)\n",
    "train_df.plot.scatter(x = 'Restaurant_latitude', y = 'Time_taken (min)', s = 100);"
   ]
  },
  {
   "cell_type": "code",
   "execution_count": 46,
   "id": "e3ab442d",
   "metadata": {},
   "outputs": [
    {
     "data": {
      "image/png": "[encoded data removed]",
      "text/plain": [
       "<Figure size 432x288 with 1 Axes>"
      ]
     },
     "metadata": {
      "needs_background": "light"
     },
     "output_type": "display_data"
    }
   ],
   "source": [
    "#multiple_deliveries vs Time_taken (min)\n",
    "train_df.plot.scatter(x = 'multiple_deliveries', y = 'Time_taken (min)', s = 100);"
   ]
  },
  {
   "cell_type": "code",
   "execution_count": 47,
   "id": "f210503a",
   "metadata": {},
   "outputs": [
    {
     "data": {
      "image/png": "[encoded data removed]",
      "text/plain": [
       "<Figure size 432x288 with 1 Axes>"
      ]
     },
     "metadata": {
      "needs_background": "light"
     },
     "output_type": "display_data"
    }
   ],
   "source": [
    "train_df.plot.scatter(x = 'Delay', y = 'Time_taken (min)', s = 1);"
   ]
  },
  {
   "cell_type": "code",
   "execution_count": 48,
   "id": "7b83d9b3",
   "metadata": {},
   "outputs": [
    {
     "data": {
      "image/png": "[encoded data removed]",
      "text/plain": [
       "<Figure size 432x288 with 1 Axes>"
      ]
     },
     "metadata": {
      "needs_background": "light"
     },
     "output_type": "display_data"
    }
   ],
   "source": [
    "train_df.plot.scatter(x = 'Weather conditions', y = 'Time_taken (min)', s = 100);"
   ]
  },
  {
   "cell_type": "code",
   "execution_count": 49,
   "id": "860962e1",
   "metadata": {},
   "outputs": [
    {
     "data": {
      "image/png": "[encoded data removed]",
      "text/plain": [
       "<Figure size 432x288 with 1 Axes>"
      ]
     },
     "metadata": {
      "needs_background": "light"
     },
     "output_type": "display_data"
    }
   ],
   "source": [
    "train_df.plot.scatter(x = 'Road_traffic_density', y = 'Time_taken (min)', s = 100);"
   ]
  },
  {
   "cell_type": "code",
   "execution_count": 50,
   "id": "475d2584",
   "metadata": {},
   "outputs": [
    {
     "data": {
      "image/png": "[encoded data removed]",
      "text/plain": [
       "<Figure size 432x288 with 1 Axes>"
      ]
     },
     "metadata": {
      "needs_background": "light"
     },
     "output_type": "display_data"
    }
   ],
   "source": [
    "train_df.plot.scatter(x = 'Vehicle_condition', y = 'Time_taken (min)', s = 100);"
   ]
  },
  {
   "cell_type": "code",
   "execution_count": 51,
   "id": "00bd178d",
   "metadata": {},
   "outputs": [
    {
     "data": {
      "image/png": "[encoded data removed]",
      "text/plain": [
       "<Figure size 432x288 with 1 Axes>"
      ]
     },
     "metadata": {
      "needs_background": "light"
     },
     "output_type": "display_data"
    }
   ],
   "source": [
    "train_df.plot.scatter(x = 'Type_of_order', y = 'Time_taken (min)', s = 100);"
   ]
  },
  {
   "cell_type": "code",
   "execution_count": 52,
   "id": "d44529c1",
   "metadata": {},
   "outputs": [
    {
     "data": {
      "image/png": "[encoded data removed]",
      "text/plain": [
       "<Figure size 432x288 with 1 Axes>"
      ]
     },
     "metadata": {
      "needs_background": "light"
     },
     "output_type": "display_data"
    }
   ],
   "source": [
    "train_df.plot.scatter(x = 'Type_of_vehicle', y = 'Time_taken (min)', s = 100);"
   ]
  },
  {
   "cell_type": "code",
   "execution_count": 53,
   "id": "eda36948",
   "metadata": {},
   "outputs": [
    {
     "data": {
      "image/png": "[encoded data removed]",
      "text/plain": [
       "<Figure size 432x288 with 1 Axes>"
      ]
     },
     "metadata": {
      "needs_background": "light"
     },
     "output_type": "display_data"
    }
   ],
   "source": [
    "train_df.plot.scatter(x = 'Festival', y = 'Time_taken (min)', s = 100);"
   ]
  },
  {
   "cell_type": "code",
   "execution_count": 54,
   "id": "57b41772",
   "metadata": {},
   "outputs": [
    {
     "data": {
      "image/png": "[encoded data removed]",
      "text/plain": [
       "<Figure size 432x288 with 1 Axes>"
      ]
     },
     "metadata": {
      "needs_background": "light"
     },
     "output_type": "display_data"
    }
   ],
   "source": [
    "train_df.plot.scatter(x = 'City', y = 'Time_taken (min)', s = 100);"
   ]
  },
  {
   "cell_type": "markdown",
   "id": "ea96be29",
   "metadata": {},
   "source": [
    "__Observation__:\n",
    "Apart from below attributes we have not found any specific relationship with the target variable<br>\n",
    "multiple_deliveries: If number of deliveries are high(2 or 3) then Time Taken is also high<br>\n",
    "Festival : If there is any festival going on then Time Taken value is high<br>\n",
    "City: For Semi-Urban City Time Taken value is high"
   ]
  },
  {
   "cell_type": "code",
   "execution_count": 55,
   "id": "db77c595",
   "metadata": {},
   "outputs": [
    {
     "data": {
      "text/html": [
       "<div>\n",
       "<style scoped>\n",
       "    .dataframe tbody tr th:only-of-type {\n",
       "        vertical-align: middle;\n",
       "    }\n",
       "\n",
       "    .dataframe tbody tr th {\n",
       "        vertical-align: top;\n",
       "    }\n",
       "\n",
       "    .dataframe thead th {\n",
       "        text-align: right;\n",
       "    }\n",
       "</style>\n",
       "<table border=\"1\" class=\"dataframe\">\n",
       "  <thead>\n",
       "    <tr style=\"text-align: right;\">\n",
       "      <th></th>\n",
       "      <th>Delivery_person_Age</th>\n",
       "      <th>Delivery_person_Ratings</th>\n",
       "      <th>Restaurant_latitude</th>\n",
       "      <th>Restaurant_longitude</th>\n",
       "      <th>Delivery_location_latitude</th>\n",
       "      <th>Delivery_location_longitude</th>\n",
       "      <th>Time_Orderd</th>\n",
       "      <th>Time_Order_picked</th>\n",
       "      <th>multiple_deliveries</th>\n",
       "      <th>Time_taken (min)</th>\n",
       "      <th>Delay</th>\n",
       "    </tr>\n",
       "  </thead>\n",
       "  <tbody>\n",
       "    <tr>\n",
       "      <th>count</th>\n",
       "      <td>45593.000000</td>\n",
       "      <td>45593.000000</td>\n",
       "      <td>45593.000000</td>\n",
       "      <td>45593.000000</td>\n",
       "      <td>45593.000000</td>\n",
       "      <td>45593.000000</td>\n",
       "      <td>45593.000000</td>\n",
       "      <td>45593.000000</td>\n",
       "      <td>45593.000000</td>\n",
       "      <td>45593.000000</td>\n",
       "      <td>45593.000000</td>\n",
       "    </tr>\n",
       "    <tr>\n",
       "      <th>mean</th>\n",
       "      <td>29.598969</td>\n",
       "      <td>4.632848</td>\n",
       "      <td>17.017729</td>\n",
       "      <td>70.231332</td>\n",
       "      <td>17.465186</td>\n",
       "      <td>70.845702</td>\n",
       "      <td>18.149851</td>\n",
       "      <td>18.316341</td>\n",
       "      <td>0.750225</td>\n",
       "      <td>26.294607</td>\n",
       "      <td>0.166436</td>\n",
       "    </tr>\n",
       "    <tr>\n",
       "      <th>std</th>\n",
       "      <td>5.766534</td>\n",
       "      <td>0.335780</td>\n",
       "      <td>8.185109</td>\n",
       "      <td>22.883647</td>\n",
       "      <td>7.335122</td>\n",
       "      <td>21.118812</td>\n",
       "      <td>4.541241</td>\n",
       "      <td>4.542014</td>\n",
       "      <td>0.567430</td>\n",
       "      <td>9.383806</td>\n",
       "      <td>0.067079</td>\n",
       "    </tr>\n",
       "    <tr>\n",
       "      <th>min</th>\n",
       "      <td>15.000000</td>\n",
       "      <td>1.000000</td>\n",
       "      <td>-30.905562</td>\n",
       "      <td>-88.366217</td>\n",
       "      <td>0.010000</td>\n",
       "      <td>0.010000</td>\n",
       "      <td>8.083510</td>\n",
       "      <td>8.250000</td>\n",
       "      <td>0.000000</td>\n",
       "      <td>10.000000</td>\n",
       "      <td>0.083333</td>\n",
       "    </tr>\n",
       "    <tr>\n",
       "      <th>25%</th>\n",
       "      <td>25.000000</td>\n",
       "      <td>4.500000</td>\n",
       "      <td>12.933284</td>\n",
       "      <td>73.170000</td>\n",
       "      <td>12.988453</td>\n",
       "      <td>73.280000</td>\n",
       "      <td>15.833333</td>\n",
       "      <td>16.000000</td>\n",
       "      <td>0.000000</td>\n",
       "      <td>19.000000</td>\n",
       "      <td>0.083333</td>\n",
       "    </tr>\n",
       "    <tr>\n",
       "      <th>50%</th>\n",
       "      <td>30.000000</td>\n",
       "      <td>4.700000</td>\n",
       "      <td>18.546947</td>\n",
       "      <td>75.898497</td>\n",
       "      <td>18.633934</td>\n",
       "      <td>76.002574</td>\n",
       "      <td>19.333333</td>\n",
       "      <td>19.500000</td>\n",
       "      <td>1.000000</td>\n",
       "      <td>26.000000</td>\n",
       "      <td>0.166667</td>\n",
       "    </tr>\n",
       "    <tr>\n",
       "      <th>75%</th>\n",
       "      <td>34.200000</td>\n",
       "      <td>4.800000</td>\n",
       "      <td>22.728163</td>\n",
       "      <td>78.044095</td>\n",
       "      <td>22.785049</td>\n",
       "      <td>78.107044</td>\n",
       "      <td>21.666667</td>\n",
       "      <td>21.833333</td>\n",
       "      <td>1.000000</td>\n",
       "      <td>32.000000</td>\n",
       "      <td>0.250000</td>\n",
       "    </tr>\n",
       "    <tr>\n",
       "      <th>max</th>\n",
       "      <td>50.000000</td>\n",
       "      <td>6.000000</td>\n",
       "      <td>30.914057</td>\n",
       "      <td>88.433452</td>\n",
       "      <td>31.054057</td>\n",
       "      <td>88.563452</td>\n",
       "      <td>24.083510</td>\n",
       "      <td>24.250000</td>\n",
       "      <td>3.000000</td>\n",
       "      <td>54.000000</td>\n",
       "      <td>0.250000</td>\n",
       "    </tr>\n",
       "  </tbody>\n",
       "</table>\n",
       "</div>"
      ],
      "text/plain": [
       "       Delivery_person_Age  Delivery_person_Ratings  Restaurant_latitude  \\\n",
       "count         45593.000000             45593.000000         45593.000000   \n",
       "mean             29.598969                 4.632848            17.017729   \n",
       "std               5.766534                 0.335780             8.185109   \n",
       "min              15.000000                 1.000000           -30.905562   \n",
       "25%              25.000000                 4.500000            12.933284   \n",
       "50%              30.000000                 4.700000            18.546947   \n",
       "75%              34.200000                 4.800000            22.728163   \n",
       "max              50.000000                 6.000000            30.914057   \n",
       "\n",
       "       Restaurant_longitude  Delivery_location_latitude  \\\n",
       "count          45593.000000                45593.000000   \n",
       "mean              70.231332                   17.465186   \n",
       "std               22.883647                    7.335122   \n",
       "min              -88.366217                    0.010000   \n",
       "25%               73.170000                   12.988453   \n",
       "50%               75.898497                   18.633934   \n",
       "75%               78.044095                   22.785049   \n",
       "max               88.433452                   31.054057   \n",
       "\n",
       "       Delivery_location_longitude   Time_Orderd  Time_Order_picked  \\\n",
       "count                 45593.000000  45593.000000       45593.000000   \n",
       "mean                     70.845702     18.149851          18.316341   \n",
       "std                      21.118812      4.541241           4.542014   \n",
       "min                       0.010000      8.083510           8.250000   \n",
       "25%                      73.280000     15.833333          16.000000   \n",
       "50%                      76.002574     19.333333          19.500000   \n",
       "75%                      78.107044     21.666667          21.833333   \n",
       "max                      88.563452     24.083510          24.250000   \n",
       "\n",
       "       multiple_deliveries  Time_taken (min)         Delay  \n",
       "count         45593.000000      45593.000000  45593.000000  \n",
       "mean              0.750225         26.294607      0.166436  \n",
       "std               0.567430          9.383806      0.067079  \n",
       "min               0.000000         10.000000      0.083333  \n",
       "25%               0.000000         19.000000      0.083333  \n",
       "50%               1.000000         26.000000      0.166667  \n",
       "75%               1.000000         32.000000      0.250000  \n",
       "max               3.000000         54.000000      0.250000  "
      ]
     },
     "execution_count": 55,
     "metadata": {},
     "output_type": "execute_result"
    }
   ],
   "source": [
    "train_df.describe()"
   ]
  },
  {
   "cell_type": "markdown",
   "id": "2d287251",
   "metadata": {},
   "source": [
    "## 6. Feature Engineering"
   ]
  },
  {
   "cell_type": "markdown",
   "id": "62267cf9",
   "metadata": {},
   "source": [
    "Let's see if we can create new features from the raw data to use in our machine learning model. We will remove feature if not relevant"
   ]
  },
  {
   "cell_type": "markdown",
   "id": "6cac485d",
   "metadata": {},
   "source": [
    "__6.a) Delivery_person_ID__: We can guess the city for each ID. like guessing PUNE from PUNERES17DEL01 "
   ]
  },
  {
   "cell_type": "code",
   "execution_count": 56,
   "id": "ad1e58eb",
   "metadata": {},
   "outputs": [
    {
     "data": {
      "text/plain": [
       "PUNERES01DEL01    67\n",
       "JAPRES11DEL02     67\n",
       "HYDRES04DEL02     66\n",
       "JAPRES03DEL01     66\n",
       "VADRES11DEL02     66\n",
       "                  ..\n",
       "DEHRES18DEL03      7\n",
       "AURGRES11DEL03     7\n",
       "KOLRES09DEL03      6\n",
       "KOCRES16DEL03      6\n",
       "BHPRES010DEL03     5\n",
       "Name: Delivery_person_ID, Length: 1320, dtype: int64"
      ]
     },
     "execution_count": 56,
     "metadata": {},
     "output_type": "execute_result"
    }
   ],
   "source": [
    "train_df['Delivery_person_ID'].value_counts()"
   ]
  },
  {
   "cell_type": "code",
   "execution_count": 57,
   "id": "fc1bea3a",
   "metadata": {},
   "outputs": [],
   "source": [
    "train_df['Delivery_person_City'] = train_df['Delivery_person_ID'].apply(lambda x: re.sub('RES\\d+.*', '', x))\n",
    "test_df['Delivery_person_City'] = test_df['Delivery_person_ID'].apply(lambda x: re.sub('RES\\d+.*', '', x))"
   ]
  },
  {
   "cell_type": "code",
   "execution_count": 58,
   "id": "fbe3ae57",
   "metadata": {},
   "outputs": [
    {
     "data": {
      "text/plain": [
       "JAP       3443\n",
       "RANCHI    3229\n",
       "BANG      3195\n",
       "SUR       3187\n",
       "HYD       3181\n",
       "MUM       3173\n",
       "MYS       3171\n",
       "COIMB     3170\n",
       "VAD       3166\n",
       "INDO      3159\n",
       "CHEN      3145\n",
       "PUNE      3132\n",
       "AGR        763\n",
       "LUDH       758\n",
       "ALH        740\n",
       "KNP        740\n",
       "DEH        737\n",
       "GOA        709\n",
       "AURG       703\n",
       "KOC        701\n",
       "KOL        700\n",
       "BHP        691\n",
       "Name: Delivery_person_City, dtype: int64"
      ]
     },
     "execution_count": 58,
     "metadata": {},
     "output_type": "execute_result"
    }
   ],
   "source": [
    "train_df['Delivery_person_City'].value_counts()"
   ]
  },
  {
   "cell_type": "markdown",
   "id": "b95dc2f2",
   "metadata": {},
   "source": [
    "#### 6.b) From latitude and Longitude we can calculate the distance between Restaurant Location and Delivery Location"
   ]
  },
  {
   "cell_type": "code",
   "execution_count": 59,
   "id": "8708f3de",
   "metadata": {},
   "outputs": [],
   "source": [
    "def cal_distance(Restaurant_latitude, Restaurant_longitude, Delivery_location_latitude, Delivery_location_longitude):\n",
    "    coords_1 = (Restaurant_latitude, Restaurant_longitude)\n",
    "    coords_2 = (Delivery_location_latitude, Delivery_location_longitude)\n",
    "    return geopy.distance.geodesic(coords_1, coords_2).km"
   ]
  },
  {
   "cell_type": "code",
   "execution_count": 60,
   "id": "1a7b7d6e",
   "metadata": {},
   "outputs": [],
   "source": [
    "train_df['Distance'] = train_df.apply(lambda x: cal_distance(x.Restaurant_latitude, x.Restaurant_longitude, x.Delivery_location_latitude, x.Delivery_location_longitude), axis=1)\n",
    "test_df['Distance'] = test_df.apply(lambda x: cal_distance(x.Restaurant_latitude, x.Restaurant_longitude, x.Delivery_location_latitude, x.Delivery_location_longitude), axis=1)"
   ]
  },
  {
   "cell_type": "markdown",
   "id": "4bcc1485",
   "metadata": {},
   "source": [
    "#### 6.c) Calculate the delay between time of order and order picked time"
   ]
  },
  {
   "cell_type": "code",
   "execution_count": 61,
   "id": "c9829db5",
   "metadata": {},
   "outputs": [],
   "source": [
    "train_df['Delay'] = train_df['Time_Order_picked'] - train_df['Time_Orderd']"
   ]
  },
  {
   "cell_type": "code",
   "execution_count": 62,
   "id": "6adabc21",
   "metadata": {},
   "outputs": [
    {
     "name": "stdout",
     "output_type": "stream",
     "text": [
      "average_delay::  0.16648997613727895\n"
     ]
    }
   ],
   "source": [
    "average_delay = train_df['Delay'].mean()\n",
    "print('average_delay:: ',average_delay)"
   ]
  },
  {
   "cell_type": "markdown",
   "id": "02746d5e",
   "metadata": {},
   "source": [
    "#### 6.d) Age: we are going to group the delivery persons by their age"
   ]
  },
  {
   "cell_type": "code",
   "execution_count": 63,
   "id": "f0889992",
   "metadata": {},
   "outputs": [
    {
     "data": {
      "text/plain": [
       "36.0    2314\n",
       "35.0    2280\n",
       "30.0    2259\n",
       "29.0    2251\n",
       "32.0    2238\n",
       "        ... \n",
       "22.2       2\n",
       "22.4       2\n",
       "21.8       2\n",
       "37.4       1\n",
       "37.6       1\n",
       "Name: Delivery_person_Age, Length: 87, dtype: int64"
      ]
     },
     "execution_count": 63,
     "metadata": {},
     "output_type": "execute_result"
    }
   ],
   "source": [
    "train_df['Delivery_person_Age'].value_counts()"
   ]
  },
  {
   "cell_type": "code",
   "execution_count": 64,
   "id": "f04d12c4",
   "metadata": {},
   "outputs": [
    {
     "data": {
      "text/plain": [
       "array([37. , 34. , 23. , 38. , 32. , 22. , 33. , 35. , 36. , 21. , 24. ,\n",
       "       29. , 25. , 31. , 27. , 26. , 20. , 33.2, 28. , 39. , 30. , 23.4,\n",
       "       25.6, 30.4, 30.8, 30.2, 27.2, 43. , 35.2, 34.2, 26.4, 27.6, 50. ,\n",
       "       21.8, 28.6, 29.8, 29.4, 34.6, 26.6, 25.4, 29.6, 28.4, 22.8, 27.4,\n",
       "       27.8, 32.4, 26.8, 31.2, 30.6, 31.8, 32.6, 31.4, 22.6, 28.8, 29.2,\n",
       "       23.6, 25.8, 32.2, 24.4, 24.8, 23.2, 15. , 24.2, 26.2, 34.8, 31.6,\n",
       "       33.6, 24.6, 23.8, 28.2, 36.2, 35.6, 33.8, 25.2, 22.2, 32.8, 34.4,\n",
       "       33.4, 37.2, 35.8, 35.4, 36.6, 36.8, 22.4, 36.4, 37.4, 37.6])"
      ]
     },
     "execution_count": 64,
     "metadata": {},
     "output_type": "execute_result"
    }
   ],
   "source": [
    "train_df.Delivery_person_Age.unique()"
   ]
  },
  {
   "cell_type": "code",
   "execution_count": 65,
   "id": "303fca25",
   "metadata": {},
   "outputs": [],
   "source": [
    "bins = [10,25,40,60]\n",
    "labels = [lbl for lbl in range(len(bins)-1)]"
   ]
  },
  {
   "cell_type": "code",
   "execution_count": 66,
   "id": "8ad412fd",
   "metadata": {},
   "outputs": [],
   "source": [
    "train_df['Agecategory'] = pd.cut(train_df.Delivery_person_Age, bins = bins, labels = labels, right = True).astype(int)\n",
    "test_df['Agecategory'] = pd.cut(test_df.Delivery_person_Age, bins = bins, labels = labels, right = True).astype(int)"
   ]
  },
  {
   "cell_type": "code",
   "execution_count": 67,
   "id": "a77053a0",
   "metadata": {},
   "outputs": [
    {
     "data": {
      "text/plain": [
       "array([1, 0, 2])"
      ]
     },
     "execution_count": 67,
     "metadata": {},
     "output_type": "execute_result"
    }
   ],
   "source": [
    "train_df['Agecategory'].unique()"
   ]
  },
  {
   "cell_type": "markdown",
   "id": "197325e3",
   "metadata": {},
   "source": [
    "#### 6.e) Work on datetime column"
   ]
  },
  {
   "cell_type": "code",
   "execution_count": 68,
   "id": "10c0be73",
   "metadata": {},
   "outputs": [],
   "source": [
    "train_df.Order_Date = pd.to_datetime(train_df.Order_Date)"
   ]
  },
  {
   "cell_type": "code",
   "execution_count": 69,
   "id": "68e3beaf",
   "metadata": {},
   "outputs": [],
   "source": [
    "train_df['day'] = [i.day for i in train_df.Order_Date]\n",
    "train_df['day_name'] = [i.day_name() for i in train_df.Order_Date]\n",
    "train_df['day_of_year'] = [i.dayofyear for i in train_df.Order_Date]\n",
    "train_df['week_of_year'] = [i.weekofyear for i in train_df.Order_Date]\n",
    "train_df['month'] = [i.month for i in train_df.Order_Date]\n",
    "train_df['hour'] = [i.hour for i in train_df.Order_Date]\n",
    "train_df['is_weekday'] = [i.isoweekday() for i in train_df.Order_Date]"
   ]
  },
  {
   "cell_type": "code",
   "execution_count": 70,
   "id": "2f882985",
   "metadata": {},
   "outputs": [],
   "source": [
    "train_df.drop(['Order_Date'], axis = 1, inplace = True)"
   ]
  },
  {
   "cell_type": "code",
   "execution_count": 71,
   "id": "4589bddd",
   "metadata": {},
   "outputs": [],
   "source": [
    "#do the same for testdata\n",
    "test_df.Order_Date = pd.to_datetime(test_df.Order_Date)\n",
    "test_df['day'] = [i.day for i in test_df.Order_Date]\n",
    "test_df['day_name'] = [i.day_name() for i in test_df.Order_Date]\n",
    "test_df['day_of_year'] = [i.dayofyear for i in test_df.Order_Date]\n",
    "test_df['week_of_year'] = [i.weekofyear for i in test_df.Order_Date]\n",
    "test_df['month'] = [i.month for i in test_df.Order_Date]\n",
    "test_df['hour'] = [i.hour for i in test_df.Order_Date]\n",
    "test_df['is_weekday'] = [i.isoweekday() for i in test_df.Order_Date]\n",
    "test_df.drop(['Order_Date'], axis = 1, inplace = True)"
   ]
  },
  {
   "cell_type": "markdown",
   "id": "5ba5f584",
   "metadata": {},
   "source": [
    "#### 6.f) Searching for Duplicated or Quasi-constant features"
   ]
  },
  {
   "cell_type": "code",
   "execution_count": 72,
   "id": "87044f88",
   "metadata": {},
   "outputs": [
    {
     "name": "stdout",
     "output_type": "stream",
     "text": [
      "['hour']\n"
     ]
    }
   ],
   "source": [
    "#Searching for Duplicated or Quasi-constant features\n",
    "sel = DropConstantFeatures(tol=0.99, variables=None)\n",
    "\n",
    "sel.fit(train_df)\n",
    "\n",
    "features_to_drop = list(sel.features_to_drop_)\n",
    "print(features_to_drop)"
   ]
  },
  {
   "cell_type": "markdown",
   "id": "a910531c",
   "metadata": {},
   "source": [
    "#### 6.g) Looking for Correlated Features"
   ]
  },
  {
   "cell_type": "code",
   "execution_count": 73,
   "id": "6ace9c31",
   "metadata": {},
   "outputs": [
    {
     "name": "stdout",
     "output_type": "stream",
     "text": [
      "Features to drop {'month', 'Time_Order_picked', 'Delivery_location_latitude', 'Delivery_location_longitude', 'week_of_year'}\n",
      "\n",
      "Correlated Feature Sets [{'Restaurant_latitude', 'Delivery_location_latitude'}, {'Restaurant_longitude', 'Delivery_location_longitude'}, {'Time_Order_picked', 'Time_Orderd'}, {'week_of_year', 'month', 'day_of_year'}]\n"
     ]
    }
   ],
   "source": [
    "#Looking for Correlated Features\n",
    "sel = DropCorrelatedFeatures(threshold=0.80,    # more than 80% = remove\n",
    "                             method='pearson') # you can use other methods like kendall or spearman\n",
    "\n",
    "sel.fit(train_df)\n",
    "\n",
    "features_to_drop = features_to_drop + list(sel.features_to_drop_)\n",
    "features_to_drop = list(set(features_to_drop))\n",
    "print('Features to drop', sel.features_to_drop_)\n",
    "print()\n",
    "print('Correlated Feature Sets', sel.correlated_feature_sets_)"
   ]
  },
  {
   "cell_type": "code",
   "execution_count": 74,
   "id": "122b449c",
   "metadata": {},
   "outputs": [
    {
     "data": {
      "text/html": [
       "<div>\n",
       "<style scoped>\n",
       "    .dataframe tbody tr th:only-of-type {\n",
       "        vertical-align: middle;\n",
       "    }\n",
       "\n",
       "    .dataframe tbody tr th {\n",
       "        vertical-align: top;\n",
       "    }\n",
       "\n",
       "    .dataframe thead th {\n",
       "        text-align: right;\n",
       "    }\n",
       "</style>\n",
       "<table border=\"1\" class=\"dataframe\">\n",
       "  <thead>\n",
       "    <tr style=\"text-align: right;\">\n",
       "      <th></th>\n",
       "      <th>Delivery_person_ID</th>\n",
       "      <th>Delivery_person_Age</th>\n",
       "      <th>Delivery_person_Ratings</th>\n",
       "      <th>Restaurant_latitude</th>\n",
       "      <th>Restaurant_longitude</th>\n",
       "      <th>Delivery_location_latitude</th>\n",
       "      <th>Delivery_location_longitude</th>\n",
       "      <th>Time_Orderd</th>\n",
       "      <th>Time_Order_picked</th>\n",
       "      <th>Weather conditions</th>\n",
       "      <th>...</th>\n",
       "      <th>Delivery_person_City</th>\n",
       "      <th>Distance</th>\n",
       "      <th>Agecategory</th>\n",
       "      <th>day</th>\n",
       "      <th>day_name</th>\n",
       "      <th>day_of_year</th>\n",
       "      <th>week_of_year</th>\n",
       "      <th>month</th>\n",
       "      <th>hour</th>\n",
       "      <th>is_weekday</th>\n",
       "    </tr>\n",
       "  </thead>\n",
       "  <tbody>\n",
       "    <tr>\n",
       "      <th>0</th>\n",
       "      <td>INDORES13DEL02</td>\n",
       "      <td>37.0</td>\n",
       "      <td>4.9</td>\n",
       "      <td>22.745049</td>\n",
       "      <td>75.892471</td>\n",
       "      <td>22.765049</td>\n",
       "      <td>75.912471</td>\n",
       "      <td>11.50</td>\n",
       "      <td>11.750000</td>\n",
       "      <td>Sunny</td>\n",
       "      <td>...</td>\n",
       "      <td>INDO</td>\n",
       "      <td>3.020737</td>\n",
       "      <td>1</td>\n",
       "      <td>19</td>\n",
       "      <td>Saturday</td>\n",
       "      <td>78</td>\n",
       "      <td>11</td>\n",
       "      <td>3</td>\n",
       "      <td>0</td>\n",
       "      <td>6</td>\n",
       "    </tr>\n",
       "    <tr>\n",
       "      <th>1</th>\n",
       "      <td>BANGRES18DEL02</td>\n",
       "      <td>34.0</td>\n",
       "      <td>4.5</td>\n",
       "      <td>12.913041</td>\n",
       "      <td>77.683237</td>\n",
       "      <td>13.043041</td>\n",
       "      <td>77.813237</td>\n",
       "      <td>19.75</td>\n",
       "      <td>19.833333</td>\n",
       "      <td>Stormy</td>\n",
       "      <td>...</td>\n",
       "      <td>BANG</td>\n",
       "      <td>20.143737</td>\n",
       "      <td>1</td>\n",
       "      <td>25</td>\n",
       "      <td>Friday</td>\n",
       "      <td>84</td>\n",
       "      <td>12</td>\n",
       "      <td>3</td>\n",
       "      <td>0</td>\n",
       "      <td>5</td>\n",
       "    </tr>\n",
       "    <tr>\n",
       "      <th>2</th>\n",
       "      <td>BANGRES19DEL01</td>\n",
       "      <td>23.0</td>\n",
       "      <td>4.4</td>\n",
       "      <td>12.914264</td>\n",
       "      <td>77.678400</td>\n",
       "      <td>12.924264</td>\n",
       "      <td>77.688400</td>\n",
       "      <td>8.50</td>\n",
       "      <td>8.750000</td>\n",
       "      <td>Sandstorms</td>\n",
       "      <td>...</td>\n",
       "      <td>BANG</td>\n",
       "      <td>1.549693</td>\n",
       "      <td>0</td>\n",
       "      <td>19</td>\n",
       "      <td>Saturday</td>\n",
       "      <td>78</td>\n",
       "      <td>11</td>\n",
       "      <td>3</td>\n",
       "      <td>0</td>\n",
       "      <td>6</td>\n",
       "    </tr>\n",
       "  </tbody>\n",
       "</table>\n",
       "<p>3 rows × 29 columns</p>\n",
       "</div>"
      ],
      "text/plain": [
       "  Delivery_person_ID  Delivery_person_Age  Delivery_person_Ratings  \\\n",
       "0     INDORES13DEL02                 37.0                      4.9   \n",
       "1     BANGRES18DEL02                 34.0                      4.5   \n",
       "2     BANGRES19DEL01                 23.0                      4.4   \n",
       "\n",
       "   Restaurant_latitude  Restaurant_longitude  Delivery_location_latitude  \\\n",
       "0            22.745049             75.892471                   22.765049   \n",
       "1            12.913041             77.683237                   13.043041   \n",
       "2            12.914264             77.678400                   12.924264   \n",
       "\n",
       "   Delivery_location_longitude  Time_Orderd  Time_Order_picked  \\\n",
       "0                    75.912471        11.50          11.750000   \n",
       "1                    77.813237        19.75          19.833333   \n",
       "2                    77.688400         8.50           8.750000   \n",
       "\n",
       "  Weather conditions  ... Delivery_person_City   Distance Agecategory day  \\\n",
       "0              Sunny  ...                 INDO   3.020737           1  19   \n",
       "1             Stormy  ...                 BANG  20.143737           1  25   \n",
       "2         Sandstorms  ...                 BANG   1.549693           0  19   \n",
       "\n",
       "   day_name day_of_year week_of_year  month  hour is_weekday  \n",
       "0  Saturday          78           11      3     0          6  \n",
       "1    Friday          84           12      3     0          5  \n",
       "2  Saturday          78           11      3     0          6  \n",
       "\n",
       "[3 rows x 29 columns]"
      ]
     },
     "execution_count": 74,
     "metadata": {},
     "output_type": "execute_result"
    }
   ],
   "source": [
    "train_df.head(3)"
   ]
  },
  {
   "cell_type": "markdown",
   "id": "ea9cec17",
   "metadata": {},
   "source": [
    "__Observation__:<br>\n",
    "'Restaurant_latitude' and 'Delivery_location_latitude' are related<br>\n",
    "'Restaurant_longitude' and 'Delivery_location_longitude' are related<br>\n",
    "'Time_Orderd' and 'Time_Order_picked' are related<br>\n",
    "'month', 'day_of_year' and 'week_of_year' are related "
   ]
  },
  {
   "cell_type": "code",
   "execution_count": 75,
   "id": "4d6eea59",
   "metadata": {},
   "outputs": [],
   "source": [
    "train_df.drop(features_to_drop, axis=1, inplace=True)\n",
    "test_df.drop(features_to_drop, axis=1, inplace=True)"
   ]
  },
  {
   "cell_type": "code",
   "execution_count": 76,
   "id": "476b28fb",
   "metadata": {},
   "outputs": [
    {
     "data": {
      "text/plain": [
       "(45593, 23)"
      ]
     },
     "execution_count": 76,
     "metadata": {},
     "output_type": "execute_result"
    }
   ],
   "source": [
    "train_df.shape"
   ]
  },
  {
   "cell_type": "code",
   "execution_count": 77,
   "id": "de1b5478",
   "metadata": {},
   "outputs": [],
   "source": [
    "target = train_df['Time_taken (min)']"
   ]
  },
  {
   "cell_type": "code",
   "execution_count": 78,
   "id": "8fb57f07",
   "metadata": {},
   "outputs": [
    {
     "data": {
      "text/plain": [
       "\"\\nfrom sklearn.ensemble import GradientBoostingRegressor\\nx = train_df.copy()\\nx.drop('Time_taken (min)', axis=1, inplace=True)\\n# build initial model using all the features\\nmodel = GradientBoostingRegressor(n_estimators=10, max_depth=4, random_state=10)\\n\\n# Setup the RFE selector\\n\\nsel = RecursiveFeatureElimination(\\n    variables=None, # automatically evaluate all numerical variables\\n    estimator = model, # the ML model\\n    scoring = 'r2', # the metric we want to evalute\\n    threshold = 0.001, # the maximum performance drop allowed to remove a feature\\n    cv=5, # cross-validation\\n)\\n\\n# this may take quite a while, because\\n# we are building a lot of models with cross-validation\\nx = x.iloc[0:45593]\\nsel.fit(x, target)\\n\\n# performance of model trained using all features\\n\\nsel.initial_model_performance_\\n\\n# importance of all features based of initial model\\nsel.feature_importances_.plot.bar(figsize=(20,6))\\nplt.xlabel('Features')\\nplt.ylabel('Importance')\\nplt.show()\\n\""
      ]
     },
     "execution_count": 78,
     "metadata": {},
     "output_type": "execute_result"
    }
   ],
   "source": [
    "'''\n",
    "from sklearn.ensemble import GradientBoostingRegressor\n",
    "x = train_df.copy()\n",
    "x.drop('Time_taken (min)', axis=1, inplace=True)\n",
    "# build initial model using all the features\n",
    "model = GradientBoostingRegressor(n_estimators=10, max_depth=4, random_state=10)\n",
    "\n",
    "# Setup the RFE selector\n",
    "\n",
    "sel = RecursiveFeatureElimination(\n",
    "    variables=None, # automatically evaluate all numerical variables\n",
    "    estimator = model, # the ML model\n",
    "    scoring = 'r2', # the metric we want to evalute\n",
    "    threshold = 0.001, # the maximum performance drop allowed to remove a feature\n",
    "    cv=5, # cross-validation\n",
    ")\n",
    "\n",
    "# this may take quite a while, because\n",
    "# we are building a lot of models with cross-validation\n",
    "x = x.iloc[0:45593]\n",
    "sel.fit(x, target)\n",
    "\n",
    "# performance of model trained using all features\n",
    "\n",
    "sel.initial_model_performance_\n",
    "\n",
    "# importance of all features based of initial model\n",
    "sel.feature_importances_.plot.bar(figsize=(20,6))\n",
    "plt.xlabel('Features')\n",
    "plt.ylabel('Importance')\n",
    "plt.show()\n",
    "'''"
   ]
  },
  {
   "cell_type": "code",
   "execution_count": 79,
   "id": "a16b992b",
   "metadata": {},
   "outputs": [
    {
     "data": {
      "text/plain": [
       "'\\n# Resultant Dataframe will be a dataframe where the column names and Index will be the same\\n# This is a matrix similar to correlation matrix which we get after df.corr()\\n# Initialize the values in this matrix with 0\\ndf = train_df\\nresultant = pd.DataFrame(data=[(0 for i in range(len(df.columns))) for i in range(len(df.columns))], \\n                         columns=list(df.columns))\\nresultant.set_index(pd.Index(list(df.columns)), inplace = True)\\n\\n# Finding p_value for all columns and putting them in the resultant matrix\\nfor i in list(df.columns):\\n    for j in list(df.columns):\\n        if i != j:\\n            chi2_val, p_val = chi2(np.array(df[i]).reshape(-1, 1), np.array(df[j]).reshape(-1, 1))\\n            resultant.loc[i,j] = p_val\\nprint(resultant)\\n'"
      ]
     },
     "execution_count": 79,
     "metadata": {},
     "output_type": "execute_result"
    }
   ],
   "source": [
    "'''\n",
    "# Resultant Dataframe will be a dataframe where the column names and Index will be the same\n",
    "# This is a matrix similar to correlation matrix which we get after df.corr()\n",
    "# Initialize the values in this matrix with 0\n",
    "df = train_df\n",
    "resultant = pd.DataFrame(data=[(0 for i in range(len(df.columns))) for i in range(len(df.columns))], \n",
    "                         columns=list(df.columns))\n",
    "resultant.set_index(pd.Index(list(df.columns)), inplace = True)\n",
    "\n",
    "# Finding p_value for all columns and putting them in the resultant matrix\n",
    "for i in list(df.columns):\n",
    "    for j in list(df.columns):\n",
    "        if i != j:\n",
    "            chi2_val, p_val = chi2(np.array(df[i]).reshape(-1, 1), np.array(df[j]).reshape(-1, 1))\n",
    "            resultant.loc[i,j] = p_val\n",
    "print(resultant)\n",
    "'''"
   ]
  },
  {
   "cell_type": "code",
   "execution_count": 80,
   "id": "26907f5c",
   "metadata": {},
   "outputs": [
    {
     "data": {
      "text/plain": [
       "\"\\n# Plotting a heatmap\\nfig = plt.figure(figsize=(6,6))\\nsns.heatmap(resultant, annot=True, cmap='Blues')\\nplt.title('Chi-Square Test Results')\\nplt.show()\\n\""
      ]
     },
     "execution_count": 80,
     "metadata": {},
     "output_type": "execute_result"
    }
   ],
   "source": [
    "'''\n",
    "# Plotting a heatmap\n",
    "fig = plt.figure(figsize=(6,6))\n",
    "sns.heatmap(resultant, annot=True, cmap='Blues')\n",
    "plt.title('Chi-Square Test Results')\n",
    "plt.show()\n",
    "'''"
   ]
  },
  {
   "cell_type": "markdown",
   "id": "dc10f53e",
   "metadata": {},
   "source": [
    "## 7. Encoding the Categorical variables"
   ]
  },
  {
   "cell_type": "code",
   "execution_count": 81,
   "id": "09d12f38",
   "metadata": {},
   "outputs": [],
   "source": [
    "# Labelencoding - Convert Categorical to dummy numbers -- Train Data\n",
    "le = LabelEncoder()\n",
    "var_mod = train_df.select_dtypes(include='object').columns\n",
    "for i in var_mod:\n",
    "    train_df[i] = pd.Series(le.fit_transform(train_df[i]))"
   ]
  },
  {
   "cell_type": "code",
   "execution_count": 82,
   "id": "ee26afc0",
   "metadata": {},
   "outputs": [],
   "source": [
    "# Labelencoding - Convert Categorical to dummy numbers  -- Test Data\n",
    "le = LabelEncoder()\n",
    "var_mod = test_df.select_dtypes(include='object').columns\n",
    "for i in var_mod:\n",
    "    test_df[i] = pd.Series(le.fit_transform(test_df[i]))"
   ]
  },
  {
   "cell_type": "markdown",
   "id": "1cec1ada",
   "metadata": {},
   "source": [
    "## 8. Scaling"
   ]
  },
  {
   "cell_type": "code",
   "execution_count": 83,
   "id": "a0d76ad0",
   "metadata": {},
   "outputs": [],
   "source": [
    "#Scale the features using StandardScaler -- Training Data\n",
    "scaler = StandardScaler()\n",
    "train_df = pd.DataFrame(scaler.fit_transform(train_df), index=train_df.index, columns=train_df.columns)"
   ]
  },
  {
   "cell_type": "code",
   "execution_count": 84,
   "id": "3a602c2f",
   "metadata": {},
   "outputs": [],
   "source": [
    "#Scale the features using StandardScaler -- Test Data\n",
    "scaler = StandardScaler()\n",
    "test_df = pd.DataFrame(scaler.fit_transform(test_df), index=test_df.index, columns=test_df.columns)"
   ]
  },
  {
   "cell_type": "code",
   "execution_count": 85,
   "id": "3dc7d11a",
   "metadata": {},
   "outputs": [
    {
     "data": {
      "text/plain": [
       "'\\nscaler = StandardScaler()\\n#train_df = pd.DataFrame(scaler.fit_transform(train_df), index=train_df.index, columns=train_df.columns)\\ntrain_df[[\"Delivery_person_ID\"]] = scaler.fit_transform(train_df[[\"Delivery_person_ID\"]])\\ntrain_df[[\"Delivery_person_Age\"]] = scaler.fit_transform(train_df[[\"Delivery_person_Age\"]])\\ntrain_df[[\"Restaurant_latitude\"]] = scaler.fit_transform(train_df[[\"Restaurant_latitude\"]])\\ntrain_df[[\"Restaurant_longitude\"]] = scaler.fit_transform(train_df[[\"Restaurant_longitude\"]])\\ntrain_df[[\"Order_Date\"]] = scaler.fit_transform(train_df[[\"Order_Date\"]])\\ntrain_df[[\"Time_Orderd\"]] = scaler.fit_transform(train_df[[\"Time_Orderd\"]])\\ntrain_df[[\"Time_taken (min)\"]] = scaler.fit_transform(train_df[[\"Time_taken (min)\"]])\\n'"
      ]
     },
     "execution_count": 85,
     "metadata": {},
     "output_type": "execute_result"
    }
   ],
   "source": [
    "'''\n",
    "scaler = StandardScaler()\n",
    "#train_df = pd.DataFrame(scaler.fit_transform(train_df), index=train_df.index, columns=train_df.columns)\n",
    "train_df[[\"Delivery_person_ID\"]] = scaler.fit_transform(train_df[[\"Delivery_person_ID\"]])\n",
    "train_df[[\"Delivery_person_Age\"]] = scaler.fit_transform(train_df[[\"Delivery_person_Age\"]])\n",
    "train_df[[\"Restaurant_latitude\"]] = scaler.fit_transform(train_df[[\"Restaurant_latitude\"]])\n",
    "train_df[[\"Restaurant_longitude\"]] = scaler.fit_transform(train_df[[\"Restaurant_longitude\"]])\n",
    "train_df[[\"Order_Date\"]] = scaler.fit_transform(train_df[[\"Order_Date\"]])\n",
    "train_df[[\"Time_Orderd\"]] = scaler.fit_transform(train_df[[\"Time_Orderd\"]])\n",
    "train_df[[\"Time_taken (min)\"]] = scaler.fit_transform(train_df[[\"Time_taken (min)\"]])\n",
    "'''"
   ]
  },
  {
   "cell_type": "markdown",
   "id": "36a7f487",
   "metadata": {},
   "source": [
    "__Observation:__<br>\n",
    "We have tried scaling of entire training set vs scaling of only those attributes where standard deviation is high.<br>\n",
    "Scaling of entire training set gives little better accuracy."
   ]
  },
  {
   "cell_type": "markdown",
   "id": "0387ef21",
   "metadata": {},
   "source": [
    "## 9. Target Variable check"
   ]
  },
  {
   "cell_type": "markdown",
   "id": "d8fe4308",
   "metadata": {},
   "source": [
    "check distribution of the target variable"
   ]
  },
  {
   "cell_type": "code",
   "execution_count": 86,
   "id": "6217d9ad",
   "metadata": {},
   "outputs": [
    {
     "data": {
      "text/plain": [
       "<AxesSubplot:ylabel='Density'>"
      ]
     },
     "execution_count": 86,
     "metadata": {},
     "output_type": "execute_result"
    },
    {
     "data": {
      "image/png": "[encoded data removed]",
      "text/plain": [
       "<Figure size 432x288 with 1 Axes>"
      ]
     },
     "metadata": {
      "needs_background": "light"
     },
     "output_type": "display_data"
    }
   ],
   "source": [
    "train_df['Time_taken (min)'].plot.density(color='blue')"
   ]
  },
  {
   "cell_type": "code",
   "execution_count": 87,
   "id": "1d9aa8da",
   "metadata": {},
   "outputs": [
    {
     "data": {
      "text/plain": [
       "<AxesSubplot:xlabel='Time_taken (min)', ylabel='Density'>"
      ]
     },
     "execution_count": 87,
     "metadata": {},
     "output_type": "execute_result"
    },
    {
     "data": {
      "image/png": "[encoded data removed]",
      "text/plain": [
       "<Figure size 720x432 with 1 Axes>"
      ]
     },
     "metadata": {
      "needs_background": "light"
     },
     "output_type": "display_data"
    }
   ],
   "source": [
    "plt.figure(figsize=(10,6))\n",
    "sns.distplot(target, fit=st.norm)\n"
   ]
  },
  {
   "cell_type": "code",
   "execution_count": 88,
   "id": "b3906f52",
   "metadata": {},
   "outputs": [],
   "source": [
    "#plt.figure(figsize=(10,6))\n",
    "#sns.distplot(target, fit=st.johnsonsu)"
   ]
  },
  {
   "cell_type": "markdown",
   "id": "0e80b1df",
   "metadata": {},
   "source": [
    "__Observation__<br>\n",
    "Target variable is looks normal. But bit right skewed. Lets check the skewness value"
   ]
  },
  {
   "cell_type": "code",
   "execution_count": 89,
   "id": "a1e7c645",
   "metadata": {},
   "outputs": [
    {
     "name": "stdout",
     "output_type": "stream",
     "text": [
      "0.4859512298743323\n"
     ]
    }
   ],
   "source": [
    "print(target.skew())"
   ]
  },
  {
   "cell_type": "markdown",
   "id": "a6d5172e",
   "metadata": {},
   "source": [
    "Thumb rule for skewness: A skewness value greater than 1 or less than -1 indicates a highly skewed distribution.<br> A value between 0.5 and 1 or -0.5 and -1 is moderately skewed. A value between -0.5 and 0.5 indicates that the distribution is fairly symmetrical."
   ]
  },
  {
   "cell_type": "markdown",
   "id": "74380d1f",
   "metadata": {},
   "source": [
    "## 10. Model Building"
   ]
  },
  {
   "cell_type": "code",
   "execution_count": 90,
   "id": "c590ba53",
   "metadata": {},
   "outputs": [],
   "source": [
    "#create validation set\n",
    "X_train, X_test, y_train, y_test = train_test_split(train_df, target, train_size=0.75 ,test_size = 0.25, random_state=2)"
   ]
  },
  {
   "cell_type": "code",
   "execution_count": 91,
   "id": "b8ebbaff",
   "metadata": {},
   "outputs": [
    {
     "data": {
      "text/html": [
       "<style>#sk-container-id-1 {color: black;background-color: white;}#sk-container-id-1 pre{padding: 0;}#sk-container-id-1 div.sk-toggleable {background-color: white;}#sk-container-id-1 label.sk-toggleable__label {cursor: pointer;display: block;width: 100%;margin-bottom: 0;padding: 0.3em;box-sizing: border-box;text-align: center;}#sk-container-id-1 label.sk-toggleable__label-arrow:before {content: \"▸\";float: left;margin-right: 0.25em;color: #696969;}#sk-container-id-1 label.sk-toggleable__label-arrow:hover:before {color: black;}#sk-container-id-1 div.sk-estimator:hover label.sk-toggleable__label-arrow:before {color: black;}#sk-container-id-1 div.sk-toggleable__content {max-height: 0;max-width: 0;overflow: hidden;text-align: left;background-color: #f0f8ff;}#sk-container-id-1 div.sk-toggleable__content pre {margin: 0.2em;color: black;border-radius: 0.25em;background-color: #f0f8ff;}#sk-container-id-1 input.sk-toggleable__control:checked~div.sk-toggleable__content {max-height: 200px;max-width: 100%;overflow: auto;}#sk-container-id-1 input.sk-toggleable__control:checked~label.sk-toggleable__label-arrow:before {content: \"▾\";}#sk-container-id-1 div.sk-estimator input.sk-toggleable__control:checked~label.sk-toggleable__label {background-color: #d4ebff;}#sk-container-id-1 div.sk-label input.sk-toggleable__control:checked~label.sk-toggleable__label {background-color: #d4ebff;}#sk-container-id-1 input.sk-hidden--visually {border: 0;clip: rect(1px 1px 1px 1px);clip: rect(1px, 1px, 1px, 1px);height: 1px;margin: -1px;overflow: hidden;padding: 0;position: absolute;width: 1px;}#sk-container-id-1 div.sk-estimator {font-family: monospace;background-color: #f0f8ff;border: 1px dotted black;border-radius: 0.25em;box-sizing: border-box;margin-bottom: 0.5em;}#sk-container-id-1 div.sk-estimator:hover {background-color: #d4ebff;}#sk-container-id-1 div.sk-parallel-item::after {content: \"\";width: 100%;border-bottom: 1px solid gray;flex-grow: 1;}#sk-container-id-1 div.sk-label:hover label.sk-toggleable__label {background-color: #d4ebff;}#sk-container-id-1 div.sk-serial::before {content: \"\";position: absolute;border-left: 1px solid gray;box-sizing: border-box;top: 0;bottom: 0;left: 50%;z-index: 0;}#sk-container-id-1 div.sk-serial {display: flex;flex-direction: column;align-items: center;background-color: white;padding-right: 0.2em;padding-left: 0.2em;position: relative;}#sk-container-id-1 div.sk-item {position: relative;z-index: 1;}#sk-container-id-1 div.sk-parallel {display: flex;align-items: stretch;justify-content: center;background-color: white;position: relative;}#sk-container-id-1 div.sk-item::before, #sk-container-id-1 div.sk-parallel-item::before {content: \"\";position: absolute;border-left: 1px solid gray;box-sizing: border-box;top: 0;bottom: 0;left: 50%;z-index: -1;}#sk-container-id-1 div.sk-parallel-item {display: flex;flex-direction: column;z-index: 1;position: relative;background-color: white;}#sk-container-id-1 div.sk-parallel-item:first-child::after {align-self: flex-end;width: 50%;}#sk-container-id-1 div.sk-parallel-item:last-child::after {align-self: flex-start;width: 50%;}#sk-container-id-1 div.sk-parallel-item:only-child::after {width: 0;}#sk-container-id-1 div.sk-dashed-wrapped {border: 1px dashed gray;margin: 0 0.4em 0.5em 0.4em;box-sizing: border-box;padding-bottom: 0.4em;background-color: white;}#sk-container-id-1 div.sk-label label {font-family: monospace;font-weight: bold;display: inline-block;line-height: 1.2em;}#sk-container-id-1 div.sk-label-container {text-align: center;}#sk-container-id-1 div.sk-container {/* jupyter's `normalize.less` sets `[hidden] { display: none; }` but bootstrap.min.css set `[hidden] { display: none !important; }` so we also need the `!important` here to be able to override the default hidden behavior on the sphinx rendered scikit-learn.org. See: https://github.com/scikit-learn/scikit-learn/issues/21755 */display: inline-block !important;position: relative;}#sk-container-id-1 div.sk-text-repr-fallback {display: none;}</style><div id=\"sk-container-id-1\" class=\"sk-top-container\"><div class=\"sk-text-repr-fallback\"><pre>LinearRegression()</pre><b>In a Jupyter environment, please rerun this cell to show the HTML representation or trust the notebook. <br />On GitHub, the HTML representation is unable to render, please try loading this page with nbviewer.org.</b></div><div class=\"sk-container\" hidden><div class=\"sk-item\"><div class=\"sk-estimator sk-toggleable\"><input class=\"sk-toggleable__control sk-hidden--visually\" id=\"sk-estimator-id-1\" type=\"checkbox\" checked><label for=\"sk-estimator-id-1\" class=\"sk-toggleable__label sk-toggleable__label-arrow\">LinearRegression</label><div class=\"sk-toggleable__content\"><pre>LinearRegression()</pre></div></div></div></div></div>"
      ],
      "text/plain": [
       "LinearRegression()"
      ]
     },
     "execution_count": 91,
     "metadata": {},
     "output_type": "execute_result"
    }
   ],
   "source": [
    "from sklearn.linear_model import LinearRegression\n",
    "lm = LinearRegression()\n",
    "lm.fit(X_train,y_train)"
   ]
  },
  {
   "cell_type": "code",
   "execution_count": 92,
   "id": "78222c02",
   "metadata": {},
   "outputs": [
    {
     "name": "stdout",
     "output_type": "stream",
     "text": [
      "26.29460662821047\n"
     ]
    }
   ],
   "source": [
    "# print the intercept\n",
    "print(lm.intercept_)"
   ]
  },
  {
   "cell_type": "code",
   "execution_count": 93,
   "id": "bee3a297",
   "metadata": {},
   "outputs": [
    {
     "data": {
      "text/html": [
       "<div>\n",
       "<style scoped>\n",
       "    .dataframe tbody tr th:only-of-type {\n",
       "        vertical-align: middle;\n",
       "    }\n",
       "\n",
       "    .dataframe tbody tr th {\n",
       "        vertical-align: top;\n",
       "    }\n",
       "\n",
       "    .dataframe thead th {\n",
       "        text-align: right;\n",
       "    }\n",
       "</style>\n",
       "<table border=\"1\" class=\"dataframe\">\n",
       "  <thead>\n",
       "    <tr style=\"text-align: right;\">\n",
       "      <th></th>\n",
       "      <th>Coefficient</th>\n",
       "    </tr>\n",
       "  </thead>\n",
       "  <tbody>\n",
       "    <tr>\n",
       "      <th>Delivery_person_ID</th>\n",
       "      <td>4.659775e-14</td>\n",
       "    </tr>\n",
       "    <tr>\n",
       "      <th>Delivery_person_Age</th>\n",
       "      <td>1.223327e-14</td>\n",
       "    </tr>\n",
       "    <tr>\n",
       "      <th>Delivery_person_Ratings</th>\n",
       "      <td>-5.734608e-15</td>\n",
       "    </tr>\n",
       "    <tr>\n",
       "      <th>Restaurant_latitude</th>\n",
       "      <td>-1.169611e-15</td>\n",
       "    </tr>\n",
       "    <tr>\n",
       "      <th>Restaurant_longitude</th>\n",
       "      <td>9.376161e-16</td>\n",
       "    </tr>\n",
       "    <tr>\n",
       "      <th>Time_Orderd</th>\n",
       "      <td>-3.194038e-16</td>\n",
       "    </tr>\n",
       "    <tr>\n",
       "      <th>Weather conditions</th>\n",
       "      <td>-3.445392e-15</td>\n",
       "    </tr>\n",
       "    <tr>\n",
       "      <th>Road_traffic_density</th>\n",
       "      <td>-3.732192e-15</td>\n",
       "    </tr>\n",
       "    <tr>\n",
       "      <th>Vehicle_condition</th>\n",
       "      <td>-2.715578e-15</td>\n",
       "    </tr>\n",
       "    <tr>\n",
       "      <th>Type_of_order</th>\n",
       "      <td>6.355911e-17</td>\n",
       "    </tr>\n",
       "    <tr>\n",
       "      <th>Type_of_vehicle</th>\n",
       "      <td>-1.458004e-15</td>\n",
       "    </tr>\n",
       "    <tr>\n",
       "      <th>multiple_deliveries</th>\n",
       "      <td>4.708914e-15</td>\n",
       "    </tr>\n",
       "    <tr>\n",
       "      <th>Festival</th>\n",
       "      <td>2.633584e-15</td>\n",
       "    </tr>\n",
       "    <tr>\n",
       "      <th>City</th>\n",
       "      <td>-6.092397e-16</td>\n",
       "    </tr>\n",
       "    <tr>\n",
       "      <th>Time_taken (min)</th>\n",
       "      <td>9.383703e+00</td>\n",
       "    </tr>\n",
       "    <tr>\n",
       "      <th>Delay</th>\n",
       "      <td>-1.407406e-16</td>\n",
       "    </tr>\n",
       "    <tr>\n",
       "      <th>Delivery_person_City</th>\n",
       "      <td>-5.230812e-14</td>\n",
       "    </tr>\n",
       "    <tr>\n",
       "      <th>Distance</th>\n",
       "      <td>8.250779e-17</td>\n",
       "    </tr>\n",
       "    <tr>\n",
       "      <th>Agecategory</th>\n",
       "      <td>-9.069351e-16</td>\n",
       "    </tr>\n",
       "    <tr>\n",
       "      <th>day</th>\n",
       "      <td>-1.317414e-15</td>\n",
       "    </tr>\n",
       "    <tr>\n",
       "      <th>day_name</th>\n",
       "      <td>1.634055e-15</td>\n",
       "    </tr>\n",
       "    <tr>\n",
       "      <th>day_of_year</th>\n",
       "      <td>2.230854e-15</td>\n",
       "    </tr>\n",
       "    <tr>\n",
       "      <th>is_weekday</th>\n",
       "      <td>1.303753e-16</td>\n",
       "    </tr>\n",
       "  </tbody>\n",
       "</table>\n",
       "</div>"
      ],
      "text/plain": [
       "                          Coefficient\n",
       "Delivery_person_ID       4.659775e-14\n",
       "Delivery_person_Age      1.223327e-14\n",
       "Delivery_person_Ratings -5.734608e-15\n",
       "Restaurant_latitude     -1.169611e-15\n",
       "Restaurant_longitude     9.376161e-16\n",
       "Time_Orderd             -3.194038e-16\n",
       "Weather conditions      -3.445392e-15\n",
       "Road_traffic_density    -3.732192e-15\n",
       "Vehicle_condition       -2.715578e-15\n",
       "Type_of_order            6.355911e-17\n",
       "Type_of_vehicle         -1.458004e-15\n",
       "multiple_deliveries      4.708914e-15\n",
       "Festival                 2.633584e-15\n",
       "City                    -6.092397e-16\n",
       "Time_taken (min)         9.383703e+00\n",
       "Delay                   -1.407406e-16\n",
       "Delivery_person_City    -5.230812e-14\n",
       "Distance                 8.250779e-17\n",
       "Agecategory             -9.069351e-16\n",
       "day                     -1.317414e-15\n",
       "day_name                 1.634055e-15\n",
       "day_of_year              2.230854e-15\n",
       "is_weekday               1.303753e-16"
      ]
     },
     "execution_count": 93,
     "metadata": {},
     "output_type": "execute_result"
    }
   ],
   "source": [
    "coeff_df = pd.DataFrame(lm.coef_,train_df.columns,columns=['Coefficient'])\n",
    "coeff_df"
   ]
  },
  {
   "cell_type": "code",
   "execution_count": 94,
   "id": "cf60a7a7",
   "metadata": {},
   "outputs": [
    {
     "name": "stdout",
     "output_type": "stream",
     "text": [
      "MAE: 1.4112679014805289e-14\n",
      "MSE: 3.20456766904284e-28\n",
      "RMSE: 1.7901306290443836e-14\n"
     ]
    }
   ],
   "source": [
    "# Importing metrics from sklearn\n",
    "from sklearn import metrics\n",
    "predictions = lm.predict(X_test)\n",
    "# Show the values of MAE, MSE, RMSE\n",
    "print('MAE:', metrics.mean_absolute_error(y_test, predictions))\n",
    "print('MSE:', metrics.mean_squared_error(y_test, predictions))\n",
    "print('RMSE:', np.sqrt(metrics.mean_squared_error(y_test, predictions)))"
   ]
  },
  {
   "cell_type": "markdown",
   "id": "3b179de1",
   "metadata": {},
   "source": [
    "__Observation:__<br>\n",
    "With simple Linear Regression we are getting r2 score 44.05922 on final test data. Lets try other models. And this time we use entire training data and will check the cross validation score."
   ]
  },
  {
   "cell_type": "code",
   "execution_count": 95,
   "id": "ca542038",
   "metadata": {},
   "outputs": [],
   "source": [
    "from sklearn.model_selection import cross_val_score, KFold\n",
    "\n",
    "kfold = KFold(n_splits=10)"
   ]
  },
  {
   "cell_type": "code",
   "execution_count": 96,
   "id": "3321df07",
   "metadata": {},
   "outputs": [],
   "source": [
    "train_df.drop('Time_taken (min)', axis=1, inplace=True)"
   ]
  },
  {
   "cell_type": "code",
   "execution_count": 97,
   "id": "1655cdc3",
   "metadata": {},
   "outputs": [
    {
     "name": "stdout",
     "output_type": "stream",
     "text": [
      "-55.705472379743505 1.0660340892619422\n",
      "CPU times: total: 672 ms\n",
      "Wall time: 538 ms\n"
     ]
    }
   ],
   "source": [
    "%%time\n",
    "from sklearn.linear_model import Lasso\n",
    "\n",
    "lasso = Lasso()\n",
    "lasso.fit(train_df, target)\n",
    "cross_val_lasso = cross_val_score(lasso, train_df, target, scoring='neg_mean_squared_error', cv=kfold)\n",
    "print(cross_val_lasso.mean(), cross_val_lasso.std())"
   ]
  },
  {
   "cell_type": "code",
   "execution_count": 98,
   "id": "d54097d6",
   "metadata": {},
   "outputs": [
    {
     "name": "stdout",
     "output_type": "stream",
     "text": [
      "-48.35059300616113 0.7811503537066034\n",
      "CPU times: total: 359 ms\n",
      "Wall time: 352 ms\n"
     ]
    }
   ],
   "source": [
    "%%time\n",
    "from sklearn.linear_model import Ridge\n",
    "\n",
    "ridge = Ridge()\n",
    "ridge.fit(train_df, target)\n",
    "cross_val_ridge = cross_val_score(ridge, train_df, target, scoring='neg_mean_squared_error', cv=kfold)\n",
    "print(cross_val_ridge.mean(), cross_val_ridge.std())"
   ]
  },
  {
   "cell_type": "code",
   "execution_count": 99,
   "id": "97a35956",
   "metadata": {},
   "outputs": [
    {
     "name": "stdout",
     "output_type": "stream",
     "text": [
      "-19.36887676626663 0.36985853648935796\n",
      "CPU times: total: 2min 30s\n",
      "Wall time: 2min 30s\n"
     ]
    }
   ],
   "source": [
    "%%time\n",
    "from sklearn.ensemble import GradientBoostingRegressor\n",
    "\n",
    "gbr = GradientBoostingRegressor(criterion='squared_error')\n",
    "gbr.fit(train_df, target)\n",
    "cross_val_gbr = cross_val_score(gbr, train_df, target, scoring='neg_mean_squared_error', cv=kfold)\n",
    "print(cross_val_gbr.mean(), cross_val_gbr.std())"
   ]
  },
  {
   "cell_type": "code",
   "execution_count": 100,
   "id": "af779db4",
   "metadata": {},
   "outputs": [
    {
     "name": "stdout",
     "output_type": "stream",
     "text": [
      "-15.272947077893445 0.2629652371624497\n",
      "CPU times: total: 10min 37s\n",
      "Wall time: 10min 38s\n"
     ]
    }
   ],
   "source": [
    "%%time\n",
    "from sklearn.ensemble import RandomForestRegressor\n",
    "\n",
    "rfr = RandomForestRegressor(random_state = 8)\n",
    "rfr.fit(train_df, target)\n",
    "cross_val_rfr = cross_val_score(rfr, train_df, target, scoring='neg_mean_squared_error', cv=kfold)\n",
    "print(cross_val_rfr.mean(), cross_val_rfr.std())"
   ]
  },
  {
   "cell_type": "markdown",
   "id": "a3383ce3",
   "metadata": {},
   "source": [
    "As Random forest regressor is giving good result lets tune it more"
   ]
  },
  {
   "cell_type": "markdown",
   "id": "38753c83",
   "metadata": {},
   "source": [
    "__Hyperparameter Tuning__"
   ]
  },
  {
   "cell_type": "code",
   "execution_count": 101,
   "id": "7e333a93",
   "metadata": {},
   "outputs": [
    {
     "name": "stdout",
     "output_type": "stream",
     "text": [
      "Best parameters found by grid search are: {'max_depth': 4, 'max_features': 22, 'n_estimators': 25}\n",
      "CPU times: total: 3min 12s\n",
      "Wall time: 3min 12s\n"
     ]
    }
   ],
   "source": [
    "%%time\n",
    "# other scikit-learn modules\n",
    "estimator = RandomForestRegressor(random_state = 8)\n",
    "\n",
    "param_grid = {\n",
    "    'max_features': [10,14,18,20,22,25],\n",
    "    'n_estimators': [5, 8, 10,14,18,20,22,25],\n",
    "    'max_depth':[2, 3, 4]\n",
    "}\n",
    "\n",
    "rfr_mod = GridSearchCV(estimator, param_grid, cv=3)\n",
    "rfr_mod.fit(X_train, y_train)\n",
    "\n",
    "print(f'Best parameters found by grid search are: {rfr_mod.best_params_}')"
   ]
  },
  {
   "cell_type": "code",
   "execution_count": 102,
   "id": "51501e4a",
   "metadata": {},
   "outputs": [
    {
     "name": "stdout",
     "output_type": "stream",
     "text": [
      "CPU times: total: 953 ms\n",
      "Wall time: 982 ms\n"
     ]
    },
    {
     "data": {
      "text/html": [
       "<style>#sk-container-id-2 {color: black;background-color: white;}#sk-container-id-2 pre{padding: 0;}#sk-container-id-2 div.sk-toggleable {background-color: white;}#sk-container-id-2 label.sk-toggleable__label {cursor: pointer;display: block;width: 100%;margin-bottom: 0;padding: 0.3em;box-sizing: border-box;text-align: center;}#sk-container-id-2 label.sk-toggleable__label-arrow:before {content: \"▸\";float: left;margin-right: 0.25em;color: #696969;}#sk-container-id-2 label.sk-toggleable__label-arrow:hover:before {color: black;}#sk-container-id-2 div.sk-estimator:hover label.sk-toggleable__label-arrow:before {color: black;}#sk-container-id-2 div.sk-toggleable__content {max-height: 0;max-width: 0;overflow: hidden;text-align: left;background-color: #f0f8ff;}#sk-container-id-2 div.sk-toggleable__content pre {margin: 0.2em;color: black;border-radius: 0.25em;background-color: #f0f8ff;}#sk-container-id-2 input.sk-toggleable__control:checked~div.sk-toggleable__content {max-height: 200px;max-width: 100%;overflow: auto;}#sk-container-id-2 input.sk-toggleable__control:checked~label.sk-toggleable__label-arrow:before {content: \"▾\";}#sk-container-id-2 div.sk-estimator input.sk-toggleable__control:checked~label.sk-toggleable__label {background-color: #d4ebff;}#sk-container-id-2 div.sk-label input.sk-toggleable__control:checked~label.sk-toggleable__label {background-color: #d4ebff;}#sk-container-id-2 input.sk-hidden--visually {border: 0;clip: rect(1px 1px 1px 1px);clip: rect(1px, 1px, 1px, 1px);height: 1px;margin: -1px;overflow: hidden;padding: 0;position: absolute;width: 1px;}#sk-container-id-2 div.sk-estimator {font-family: monospace;background-color: #f0f8ff;border: 1px dotted black;border-radius: 0.25em;box-sizing: border-box;margin-bottom: 0.5em;}#sk-container-id-2 div.sk-estimator:hover {background-color: #d4ebff;}#sk-container-id-2 div.sk-parallel-item::after {content: \"\";width: 100%;border-bottom: 1px solid gray;flex-grow: 1;}#sk-container-id-2 div.sk-label:hover label.sk-toggleable__label {background-color: #d4ebff;}#sk-container-id-2 div.sk-serial::before {content: \"\";position: absolute;border-left: 1px solid gray;box-sizing: border-box;top: 0;bottom: 0;left: 50%;z-index: 0;}#sk-container-id-2 div.sk-serial {display: flex;flex-direction: column;align-items: center;background-color: white;padding-right: 0.2em;padding-left: 0.2em;position: relative;}#sk-container-id-2 div.sk-item {position: relative;z-index: 1;}#sk-container-id-2 div.sk-parallel {display: flex;align-items: stretch;justify-content: center;background-color: white;position: relative;}#sk-container-id-2 div.sk-item::before, #sk-container-id-2 div.sk-parallel-item::before {content: \"\";position: absolute;border-left: 1px solid gray;box-sizing: border-box;top: 0;bottom: 0;left: 50%;z-index: -1;}#sk-container-id-2 div.sk-parallel-item {display: flex;flex-direction: column;z-index: 1;position: relative;background-color: white;}#sk-container-id-2 div.sk-parallel-item:first-child::after {align-self: flex-end;width: 50%;}#sk-container-id-2 div.sk-parallel-item:last-child::after {align-self: flex-start;width: 50%;}#sk-container-id-2 div.sk-parallel-item:only-child::after {width: 0;}#sk-container-id-2 div.sk-dashed-wrapped {border: 1px dashed gray;margin: 0 0.4em 0.5em 0.4em;box-sizing: border-box;padding-bottom: 0.4em;background-color: white;}#sk-container-id-2 div.sk-label label {font-family: monospace;font-weight: bold;display: inline-block;line-height: 1.2em;}#sk-container-id-2 div.sk-label-container {text-align: center;}#sk-container-id-2 div.sk-container {/* jupyter's `normalize.less` sets `[hidden] { display: none; }` but bootstrap.min.css set `[hidden] { display: none !important; }` so we also need the `!important` here to be able to override the default hidden behavior on the sphinx rendered scikit-learn.org. See: https://github.com/scikit-learn/scikit-learn/issues/21755 */display: inline-block !important;position: relative;}#sk-container-id-2 div.sk-text-repr-fallback {display: none;}</style><div id=\"sk-container-id-2\" class=\"sk-top-container\"><div class=\"sk-text-repr-fallback\"><pre>RandomForestRegressor(max_depth=4, max_features=18, n_estimators=10,\n",
       "                      random_state=8)</pre><b>In a Jupyter environment, please rerun this cell to show the HTML representation or trust the notebook. <br />On GitHub, the HTML representation is unable to render, please try loading this page with nbviewer.org.</b></div><div class=\"sk-container\" hidden><div class=\"sk-item\"><div class=\"sk-estimator sk-toggleable\"><input class=\"sk-toggleable__control sk-hidden--visually\" id=\"sk-estimator-id-2\" type=\"checkbox\" checked><label for=\"sk-estimator-id-2\" class=\"sk-toggleable__label sk-toggleable__label-arrow\">RandomForestRegressor</label><div class=\"sk-toggleable__content\"><pre>RandomForestRegressor(max_depth=4, max_features=18, n_estimators=10,\n",
       "                      random_state=8)</pre></div></div></div></div></div>"
      ],
      "text/plain": [
       "RandomForestRegressor(max_depth=4, max_features=18, n_estimators=10,\n",
       "                      random_state=8)"
      ]
     },
     "execution_count": 102,
     "metadata": {},
     "output_type": "execute_result"
    }
   ],
   "source": [
    "%%time\n",
    "# Now we will fit the same model with best parameters and on entire train data\n",
    "rfr_final = RandomForestRegressor(max_depth = 4, max_features = 18, n_estimators = 10, random_state = 8)\n",
    "rfr_final.fit(train_df, target)"
   ]
  },
  {
   "cell_type": "markdown",
   "id": "1c6a0aee",
   "metadata": {},
   "source": [
    "Note: Whatever parameters we have tuned(2 times) it has not improved the overall accuracy. This will be one of the future task in this project. So we will use the original Random Forest Regressor Model for final prediction."
   ]
  },
  {
   "cell_type": "markdown",
   "id": "c8a4b98e",
   "metadata": {},
   "source": [
    "# 11. Final Submission"
   ]
  },
  {
   "cell_type": "markdown",
   "id": "9f0f38f6",
   "metadata": {},
   "source": [
    "Here we will use the model that has been trained on entire training data and choose the best model(Random Forest Regressor) while prediction."
   ]
  },
  {
   "cell_type": "code",
   "execution_count": 103,
   "id": "6fb797d4",
   "metadata": {},
   "outputs": [
    {
     "data": {
      "text/html": [
       "<div>\n",
       "<style scoped>\n",
       "    .dataframe tbody tr th:only-of-type {\n",
       "        vertical-align: middle;\n",
       "    }\n",
       "\n",
       "    .dataframe tbody tr th {\n",
       "        vertical-align: top;\n",
       "    }\n",
       "\n",
       "    .dataframe thead th {\n",
       "        text-align: right;\n",
       "    }\n",
       "</style>\n",
       "<table border=\"1\" class=\"dataframe\">\n",
       "  <thead>\n",
       "    <tr style=\"text-align: right;\">\n",
       "      <th></th>\n",
       "      <th>Delivery_person_ID</th>\n",
       "      <th>Delivery_person_Age</th>\n",
       "      <th>Delivery_person_Ratings</th>\n",
       "      <th>Restaurant_latitude</th>\n",
       "      <th>Restaurant_longitude</th>\n",
       "      <th>Time_Orderd</th>\n",
       "      <th>Weather conditions</th>\n",
       "      <th>Road_traffic_density</th>\n",
       "      <th>Vehicle_condition</th>\n",
       "      <th>Type_of_order</th>\n",
       "      <th>...</th>\n",
       "      <th>Festival</th>\n",
       "      <th>City</th>\n",
       "      <th>Delay</th>\n",
       "      <th>Delivery_person_City</th>\n",
       "      <th>Distance</th>\n",
       "      <th>Agecategory</th>\n",
       "      <th>day</th>\n",
       "      <th>day_name</th>\n",
       "      <th>day_of_year</th>\n",
       "      <th>is_weekday</th>\n",
       "    </tr>\n",
       "  </thead>\n",
       "  <tbody>\n",
       "    <tr>\n",
       "      <th>0</th>\n",
       "      <td>-0.946004</td>\n",
       "      <td>-0.158952</td>\n",
       "      <td>0.263384</td>\n",
       "      <td>-0.744069</td>\n",
       "      <td>0.288828</td>\n",
       "      <td>-0.726515</td>\n",
       "      <td>0.838070</td>\n",
       "      <td>0.279498</td>\n",
       "      <td>2.344785</td>\n",
       "      <td>-0.436270</td>\n",
       "      <td>...</td>\n",
       "      <td>-0.134653</td>\n",
       "      <td>-0.53909</td>\n",
       "      <td>0.240051</td>\n",
       "      <td>-0.966946</td>\n",
       "      <td>-0.087137</td>\n",
       "      <td>0.629774</td>\n",
       "      <td>1.804687</td>\n",
       "      <td>1.488155</td>\n",
       "      <td>-0.249648</td>\n",
       "      <td>-0.456387</td>\n",
       "    </tr>\n",
       "    <tr>\n",
       "      <th>1</th>\n",
       "      <td>-1.411205</td>\n",
       "      <td>-0.264134</td>\n",
       "      <td>-0.072326</td>\n",
       "      <td>-0.503415</td>\n",
       "      <td>0.320453</td>\n",
       "      <td>0.508818</td>\n",
       "      <td>1.421755</td>\n",
       "      <td>-0.792507</td>\n",
       "      <td>-1.228505</td>\n",
       "      <td>1.354525</td>\n",
       "      <td>...</td>\n",
       "      <td>-0.134653</td>\n",
       "      <td>-0.53909</td>\n",
       "      <td>-1.253723</td>\n",
       "      <td>-1.448546</td>\n",
       "      <td>-0.077924</td>\n",
       "      <td>0.629774</td>\n",
       "      <td>1.700748</td>\n",
       "      <td>0.995088</td>\n",
       "      <td>-0.261458</td>\n",
       "      <td>-0.961863</td>\n",
       "    </tr>\n",
       "    <tr>\n",
       "      <th>2</th>\n",
       "      <td>-0.165227</td>\n",
       "      <td>-1.140651</td>\n",
       "      <td>-0.352085</td>\n",
       "      <td>1.197518</td>\n",
       "      <td>0.236683</td>\n",
       "      <td>0.305996</td>\n",
       "      <td>0.254386</td>\n",
       "      <td>-0.792507</td>\n",
       "      <td>-1.228505</td>\n",
       "      <td>-0.436270</td>\n",
       "      <td>...</td>\n",
       "      <td>-0.134653</td>\n",
       "      <td>-0.53909</td>\n",
       "      <td>-0.008911</td>\n",
       "      <td>-0.164279</td>\n",
       "      <td>-0.081033</td>\n",
       "      <td>-1.574337</td>\n",
       "      <td>-1.001654</td>\n",
       "      <td>-0.977180</td>\n",
       "      <td>1.958731</td>\n",
       "      <td>-1.467338</td>\n",
       "    </tr>\n",
       "  </tbody>\n",
       "</table>\n",
       "<p>3 rows × 22 columns</p>\n",
       "</div>"
      ],
      "text/plain": [
       "   Delivery_person_ID  Delivery_person_Age  Delivery_person_Ratings  \\\n",
       "0           -0.946004            -0.158952                 0.263384   \n",
       "1           -1.411205            -0.264134                -0.072326   \n",
       "2           -0.165227            -1.140651                -0.352085   \n",
       "\n",
       "   Restaurant_latitude  Restaurant_longitude  Time_Orderd  Weather conditions  \\\n",
       "0            -0.744069              0.288828    -0.726515            0.838070   \n",
       "1            -0.503415              0.320453     0.508818            1.421755   \n",
       "2             1.197518              0.236683     0.305996            0.254386   \n",
       "\n",
       "   Road_traffic_density  Vehicle_condition  Type_of_order  ...  Festival  \\\n",
       "0              0.279498           2.344785      -0.436270  ... -0.134653   \n",
       "1             -0.792507          -1.228505       1.354525  ... -0.134653   \n",
       "2             -0.792507          -1.228505      -0.436270  ... -0.134653   \n",
       "\n",
       "      City     Delay  Delivery_person_City  Distance  Agecategory       day  \\\n",
       "0 -0.53909  0.240051             -0.966946 -0.087137     0.629774  1.804687   \n",
       "1 -0.53909 -1.253723             -1.448546 -0.077924     0.629774  1.700748   \n",
       "2 -0.53909 -0.008911             -0.164279 -0.081033    -1.574337 -1.001654   \n",
       "\n",
       "   day_name  day_of_year  is_weekday  \n",
       "0  1.488155    -0.249648   -0.456387  \n",
       "1  0.995088    -0.261458   -0.961863  \n",
       "2 -0.977180     1.958731   -1.467338  \n",
       "\n",
       "[3 rows x 22 columns]"
      ]
     },
     "execution_count": 103,
     "metadata": {},
     "output_type": "execute_result"
    }
   ],
   "source": [
    "test_df.head(3)"
   ]
  },
  {
   "cell_type": "code",
   "execution_count": 104,
   "id": "4f26ab4d",
   "metadata": {},
   "outputs": [],
   "source": [
    "y_pred = rfr.predict(test_df)"
   ]
  },
  {
   "cell_type": "code",
   "execution_count": 105,
   "id": "64cbb7c8",
   "metadata": {},
   "outputs": [
    {
     "data": {
      "text/plain": [
       "array([18.17, 29.63, 27.33, ..., 17.8 , 27.58, 24.3 ])"
      ]
     },
     "execution_count": 105,
     "metadata": {},
     "output_type": "execute_result"
    }
   ],
   "source": [
    "y_pred"
   ]
  },
  {
   "cell_type": "code",
   "execution_count": 106,
   "id": "822cff27",
   "metadata": {},
   "outputs": [],
   "source": [
    "submission_df = pd.DataFrame()\n",
    "submission_df['ID'] = ID\n",
    "submission_df['Time_taken (min)'] = y_pred.tolist()\n",
    "submission_df.to_csv('submission15.csv', index=False)"
   ]
  },
  {
   "cell_type": "markdown",
   "id": "3c94d053",
   "metadata": {},
   "source": [
    "## 12. Future Work"
   ]
  },
  {
   "cell_type": "markdown",
   "id": "bd15d7c5",
   "metadata": {},
   "source": [
    "1. More EDA. Use UMAP or TSNE to interpret data<br>\n",
    "2. Look into non linear relationships between features. Currently we have checked the linear relationship only. <br>\n",
    "3. Check for relationship between ordinal variables and numerical variables using spearman's rank test<br>\n",
    "4. Check for relationship between two categorical variables using chi square test<br>\n",
    "5. Look for polynomial features and use them precisely as a feature(we have found some in this notebook but when we tried to include that accuracy got dropped.)<br>\n",
    "6. Hyperparameter tuning that we have not done properly.<br>\n",
    "7. Use domain knowledge while feature engineering<br>\n"
   ]
  },
  {
   "cell_type": "code",
   "execution_count": 107,
   "id": "c8ba4894",
   "metadata": {},
   "outputs": [],
   "source": [
    "#End"
   ]
  },
  {
   "cell_type": "code",
   "execution_count": null,
   "id": "b1d2c9fc",
   "metadata": {},
   "outputs": [],
   "source": []
  }
 ],
 "metadata": {
  "kernelspec": {
   "display_name": "Python 3 (ipykernel)",
   "language": "python",
   "name": "python3"
  },
  "language_info": {
   "codemirror_mode": {
    "name": "ipython",
    "version": 3
   },
   "file_extension": ".py",
   "mimetype": "text/x-python",
   "name": "python",
   "nbconvert_exporter": "python",
   "pygments_lexer": "ipython3",
   "version": "3.9.13"
  }
 },
 "nbformat": 4,
 "nbformat_minor": 5
}
